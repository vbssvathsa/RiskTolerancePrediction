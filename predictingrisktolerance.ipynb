{
 "cells": [
  {
   "cell_type": "markdown",
   "id": "98174d13",
   "metadata": {
    "papermill": {
     "duration": 0.029727,
     "end_time": "2022-03-28T20:38:24.096443",
     "exception": false,
     "start_time": "2022-03-28T20:38:24.066716",
     "status": "completed"
    },
    "tags": []
   },
   "source": [
    "# Predicting Risk Tolerance of Investors (basis their demographic and investments data)"
   ]
  },
  {
   "cell_type": "code",
   "execution_count": 1,
   "id": "522045c2",
   "metadata": {
    "_cell_guid": "b1076dfc-b9ad-4769-8c92-a6c4dae69d19",
    "_uuid": "8f2839f25d086af736a60e9eeb907d3b93b6e0e5",
    "execution": {
     "iopub.execute_input": "2022-03-28T20:38:24.160181Z",
     "iopub.status.busy": "2022-03-28T20:38:24.158481Z",
     "iopub.status.idle": "2022-03-28T20:38:31.874407Z",
     "shell.execute_reply": "2022-03-28T20:38:31.873736Z",
     "shell.execute_reply.started": "2022-03-27T21:07:29.833097Z"
    },
    "papermill": {
     "duration": 7.748773,
     "end_time": "2022-03-28T20:38:31.874616",
     "exception": false,
     "start_time": "2022-03-28T20:38:24.125843",
     "status": "completed"
    },
    "tags": []
   },
   "outputs": [],
   "source": [
    "import numpy as np;\n",
    "import pandas as pd\n",
    "import pandas_datareader.data as web\n",
    "import matplotlib.pyplot as plt\n",
    "from pandas.plotting import scatter_matrix\n",
    "import seaborn as sns\n",
    "import copy \n",
    "from sklearn.preprocessing import StandardScaler\n",
    "\n",
    "from sklearn.model_selection import train_test_split\n",
    "from sklearn.model_selection import KFold\n",
    "from sklearn.model_selection import cross_val_score\n",
    "from sklearn.model_selection import GridSearchCV\n",
    "\n",
    "from sklearn.linear_model import LinearRegression\n",
    "from sklearn.linear_model import Lasso\n",
    "from sklearn.linear_model import ElasticNet\n",
    "from sklearn.tree import DecisionTreeRegressor\n",
    "from sklearn.neighbors import KNeighborsRegressor\n",
    "from sklearn.svm import SVR\n",
    "from sklearn.ensemble import RandomForestRegressor\n",
    "from sklearn.ensemble import GradientBoostingRegressor\n",
    "from sklearn.ensemble import ExtraTreesRegressor\n",
    "from sklearn.ensemble import AdaBoostRegressor\n",
    "from sklearn.neural_network import MLPRegressor\n",
    "\n",
    "#Libraries for Deep Learning Models\n",
    "from keras.models import Sequential\n",
    "from keras.layers import Dense\n",
    "#from keras.optimizers import SGD\n",
    "from keras.layers import LSTM\n",
    "from keras.wrappers.scikit_learn import KerasRegressor\n",
    "\n",
    "#Libraries for Statistical Models\n",
    "import statsmodels.api as sm\n",
    "\n",
    "#Libraries for Saving the Model\n",
    "from pickle import dump\n",
    "from pickle import load"
   ]
  },
  {
   "cell_type": "code",
   "execution_count": 2,
   "id": "37ed6021",
   "metadata": {
    "execution": {
     "iopub.execute_input": "2022-03-28T20:38:31.936786Z",
     "iopub.status.busy": "2022-03-28T20:38:31.936081Z",
     "iopub.status.idle": "2022-03-28T20:38:42.059393Z",
     "shell.execute_reply": "2022-03-28T20:38:42.058767Z",
     "shell.execute_reply.started": "2022-03-27T21:07:37.747756Z"
    },
    "papermill": {
     "duration": 10.156766,
     "end_time": "2022-03-28T20:38:42.059553",
     "exception": false,
     "start_time": "2022-03-28T20:38:31.902787",
     "status": "completed"
    },
    "tags": []
   },
   "outputs": [
    {
     "name": "stdout",
     "output_type": "stream",
     "text": [
      "Collecting openpyxl\r\n",
      "  Downloading openpyxl-3.0.9-py2.py3-none-any.whl (242 kB)\r\n",
      "     |████████████████████████████████| 242 kB 621 kB/s            \r\n",
      "\u001b[?25hCollecting et-xmlfile\r\n",
      "  Downloading et_xmlfile-1.1.0-py3-none-any.whl (4.7 kB)\r\n",
      "Installing collected packages: et-xmlfile, openpyxl\r\n",
      "Successfully installed et-xmlfile-1.1.0 openpyxl-3.0.9\r\n",
      "\u001b[33mWARNING: Running pip as the 'root' user can result in broken permissions and conflicting behaviour with the system package manager. It is recommended to use a virtual environment instead: https://pip.pypa.io/warnings/venv\u001b[0m\r\n"
     ]
    }
   ],
   "source": [
    "!pip install openpyxl"
   ]
  },
  {
   "cell_type": "markdown",
   "id": "fe80222d",
   "metadata": {
    "papermill": {
     "duration": 0.031023,
     "end_time": "2022-03-28T20:38:42.124806",
     "exception": false,
     "start_time": "2022-03-28T20:38:42.093783",
     "status": "completed"
    },
    "tags": []
   },
   "source": [
    "## Loading the Data"
   ]
  },
  {
   "cell_type": "code",
   "execution_count": 3,
   "id": "01472be6",
   "metadata": {
    "execution": {
     "iopub.execute_input": "2022-03-28T20:38:42.193460Z",
     "iopub.status.busy": "2022-03-28T20:38:42.192836Z",
     "iopub.status.idle": "2022-03-28T20:40:50.534864Z",
     "shell.execute_reply": "2022-03-28T20:40:50.534184Z",
     "shell.execute_reply.started": "2022-03-27T21:07:51.554374Z"
    },
    "papermill": {
     "duration": 128.37844,
     "end_time": "2022-03-28T20:40:50.535027",
     "exception": false,
     "start_time": "2022-03-28T20:38:42.156587",
     "status": "completed"
    },
    "tags": []
   },
   "outputs": [],
   "source": [
    "dataset = pd.read_excel('../input/scfp2009panel/SCFP2009panel.xlsx')"
   ]
  },
  {
   "cell_type": "code",
   "execution_count": 4,
   "id": "e1cffbb5",
   "metadata": {
    "execution": {
     "iopub.execute_input": "2022-03-28T20:40:50.601959Z",
     "iopub.status.busy": "2022-03-28T20:40:50.600986Z",
     "iopub.status.idle": "2022-03-28T20:40:50.604685Z",
     "shell.execute_reply": "2022-03-28T20:40:50.605176Z",
     "shell.execute_reply.started": "2022-03-16T15:31:32.007294Z"
    },
    "papermill": {
     "duration": 0.038159,
     "end_time": "2022-03-28T20:40:50.605336",
     "exception": false,
     "start_time": "2022-03-28T20:40:50.567177",
     "status": "completed"
    },
    "tags": []
   },
   "outputs": [],
   "source": [
    "#Disable the warnings\n",
    "import warnings\n",
    "warnings.filterwarnings('ignore')"
   ]
  },
  {
   "cell_type": "code",
   "execution_count": 5,
   "id": "5d5eabc5",
   "metadata": {
    "execution": {
     "iopub.execute_input": "2022-03-28T20:40:50.672332Z",
     "iopub.status.busy": "2022-03-28T20:40:50.671407Z",
     "iopub.status.idle": "2022-03-28T20:40:50.678632Z",
     "shell.execute_reply": "2022-03-28T20:40:50.679185Z",
     "shell.execute_reply.started": "2022-03-16T15:31:41.918185Z"
    },
    "papermill": {
     "duration": 0.042205,
     "end_time": "2022-03-28T20:40:50.679345",
     "exception": false,
     "start_time": "2022-03-28T20:40:50.637140",
     "status": "completed"
    },
    "tags": []
   },
   "outputs": [
    {
     "data": {
      "text/plain": [
       "pandas.core.frame.DataFrame"
      ]
     },
     "execution_count": 5,
     "metadata": {},
     "output_type": "execute_result"
    }
   ],
   "source": [
    "type(dataset)"
   ]
  },
  {
   "cell_type": "code",
   "execution_count": 6,
   "id": "e02c5c4e",
   "metadata": {
    "execution": {
     "iopub.execute_input": "2022-03-28T20:40:50.746132Z",
     "iopub.status.busy": "2022-03-28T20:40:50.745217Z",
     "iopub.status.idle": "2022-03-28T20:40:50.750295Z",
     "shell.execute_reply": "2022-03-28T20:40:50.750831Z",
     "shell.execute_reply.started": "2022-03-27T21:11:17.375155Z"
    },
    "papermill": {
     "duration": 0.040118,
     "end_time": "2022-03-28T20:40:50.750994",
     "exception": false,
     "start_time": "2022-03-28T20:40:50.710876",
     "status": "completed"
    },
    "tags": []
   },
   "outputs": [
    {
     "data": {
      "text/plain": [
       "(19285, 515)"
      ]
     },
     "execution_count": 6,
     "metadata": {},
     "output_type": "execute_result"
    }
   ],
   "source": [
    "dataset.shape"
   ]
  },
  {
   "cell_type": "markdown",
   "id": "4843ae4f",
   "metadata": {
    "papermill": {
     "duration": 0.03177,
     "end_time": "2022-03-28T20:40:50.815466",
     "exception": false,
     "start_time": "2022-03-28T20:40:50.783696",
     "status": "completed"
    },
    "tags": []
   },
   "source": [
    "## Data Preparation and Feature Selection"
   ]
  },
  {
   "cell_type": "code",
   "execution_count": 7,
   "id": "c56a6b17",
   "metadata": {
    "execution": {
     "iopub.execute_input": "2022-03-28T20:40:50.883089Z",
     "iopub.status.busy": "2022-03-28T20:40:50.882150Z",
     "iopub.status.idle": "2022-03-28T20:40:50.902520Z",
     "shell.execute_reply": "2022-03-28T20:40:50.903008Z",
     "shell.execute_reply.started": "2022-03-27T21:11:17.386717Z"
    },
    "papermill": {
     "duration": 0.055964,
     "end_time": "2022-03-28T20:40:50.903177",
     "exception": false,
     "start_time": "2022-03-28T20:40:50.847213",
     "status": "completed"
    },
    "tags": []
   },
   "outputs": [],
   "source": [
    "#Average SP500 during 2007 and 2009\n",
    "Average_SP500_2007=1478\n",
    "Average_SP500_2009=948\n",
    "\n",
    "#Risk Tolerance 2007\n",
    "dataset['RiskFree07']= dataset['LIQ07'] + dataset['CDS07'] + dataset['SAVBND07'] + dataset['CASHLI07']\n",
    "dataset['Risky07'] = dataset['NMMF07'] + dataset['STOCKS07'] + dataset['BOND07'] \n",
    "dataset['RT07'] = dataset['Risky07']/(dataset['Risky07']+dataset['RiskFree07'])\n",
    "\n",
    "#Risk Tolerance 2009\n",
    "dataset['RiskFree09']= dataset['LIQ09'] + dataset['CDS09'] + dataset['SAVBND09'] + dataset['CASHLI09']\n",
    "dataset['Risky09'] = dataset['NMMF09'] + dataset['STOCKS09'] + dataset['BOND09'] \n",
    "dataset['RT09'] = dataset['Risky09']/(dataset['Risky09']+dataset['RiskFree09'])*\\\n",
    "                (Average_SP500_2009/Average_SP500_2007)"
   ]
  },
  {
   "cell_type": "code",
   "execution_count": 8,
   "id": "daf9925a",
   "metadata": {
    "execution": {
     "iopub.execute_input": "2022-03-28T20:40:50.971884Z",
     "iopub.status.busy": "2022-03-28T20:40:50.970941Z",
     "iopub.status.idle": "2022-03-28T20:40:51.087372Z",
     "shell.execute_reply": "2022-03-28T20:40:51.086944Z",
     "shell.execute_reply.started": "2022-03-27T21:11:17.404244Z"
    },
    "papermill": {
     "duration": 0.151308,
     "end_time": "2022-03-28T20:40:51.087541",
     "exception": false,
     "start_time": "2022-03-28T20:40:50.936233",
     "status": "completed"
    },
    "tags": []
   },
   "outputs": [
    {
     "data": {
      "text/html": [
       "<div>\n",
       "<style scoped>\n",
       "    .dataframe tbody tr th:only-of-type {\n",
       "        vertical-align: middle;\n",
       "    }\n",
       "\n",
       "    .dataframe tbody tr th {\n",
       "        vertical-align: top;\n",
       "    }\n",
       "\n",
       "    .dataframe thead th {\n",
       "        text-align: right;\n",
       "    }\n",
       "</style>\n",
       "<table border=\"1\" class=\"dataframe\">\n",
       "  <thead>\n",
       "    <tr style=\"text-align: right;\">\n",
       "      <th></th>\n",
       "      <th>YY1</th>\n",
       "      <th>Y1</th>\n",
       "      <th>WGT09</th>\n",
       "      <th>AGE07</th>\n",
       "      <th>AGECL07</th>\n",
       "      <th>EDUC07</th>\n",
       "      <th>EDCL07</th>\n",
       "      <th>MARRIED07</th>\n",
       "      <th>KIDS07</th>\n",
       "      <th>LIFECL07</th>\n",
       "      <th>...</th>\n",
       "      <th>TRANSFOTHINCPCT</th>\n",
       "      <th>PSAVINGPCT</th>\n",
       "      <th>LEVERAGEPCT</th>\n",
       "      <th>I</th>\n",
       "      <th>RiskFree07</th>\n",
       "      <th>Risky07</th>\n",
       "      <th>RT07</th>\n",
       "      <th>RiskFree09</th>\n",
       "      <th>Risky09</th>\n",
       "      <th>RT09</th>\n",
       "    </tr>\n",
       "  </thead>\n",
       "  <tbody>\n",
       "    <tr>\n",
       "      <th>0</th>\n",
       "      <td>1</td>\n",
       "      <td>11</td>\n",
       "      <td>11668.134198</td>\n",
       "      <td>47</td>\n",
       "      <td>3</td>\n",
       "      <td>12</td>\n",
       "      <td>2</td>\n",
       "      <td>1</td>\n",
       "      <td>0</td>\n",
       "      <td>2</td>\n",
       "      <td>...</td>\n",
       "      <td>0.0</td>\n",
       "      <td>93.125197</td>\n",
       "      <td>270.403054</td>\n",
       "      <td>57</td>\n",
       "      <td>7994.813847</td>\n",
       "      <td>0.0</td>\n",
       "      <td>0.0</td>\n",
       "      <td>16000</td>\n",
       "      <td>17000</td>\n",
       "      <td>0.330422</td>\n",
       "    </tr>\n",
       "    <tr>\n",
       "      <th>1</th>\n",
       "      <td>1</td>\n",
       "      <td>12</td>\n",
       "      <td>11823.456494</td>\n",
       "      <td>47</td>\n",
       "      <td>3</td>\n",
       "      <td>12</td>\n",
       "      <td>2</td>\n",
       "      <td>1</td>\n",
       "      <td>0</td>\n",
       "      <td>2</td>\n",
       "      <td>...</td>\n",
       "      <td>0.0</td>\n",
       "      <td>93.125197</td>\n",
       "      <td>249.593620</td>\n",
       "      <td>57</td>\n",
       "      <td>7994.813847</td>\n",
       "      <td>0.0</td>\n",
       "      <td>0.0</td>\n",
       "      <td>19000</td>\n",
       "      <td>18000</td>\n",
       "      <td>0.312036</td>\n",
       "    </tr>\n",
       "    <tr>\n",
       "      <th>2</th>\n",
       "      <td>1</td>\n",
       "      <td>13</td>\n",
       "      <td>11913.228354</td>\n",
       "      <td>47</td>\n",
       "      <td>3</td>\n",
       "      <td>12</td>\n",
       "      <td>2</td>\n",
       "      <td>1</td>\n",
       "      <td>0</td>\n",
       "      <td>2</td>\n",
       "      <td>...</td>\n",
       "      <td>0.0</td>\n",
       "      <td>93.125197</td>\n",
       "      <td>209.233358</td>\n",
       "      <td>57</td>\n",
       "      <td>7984.457871</td>\n",
       "      <td>0.0</td>\n",
       "      <td>0.0</td>\n",
       "      <td>13000</td>\n",
       "      <td>12000</td>\n",
       "      <td>0.307876</td>\n",
       "    </tr>\n",
       "    <tr>\n",
       "      <th>3</th>\n",
       "      <td>1</td>\n",
       "      <td>14</td>\n",
       "      <td>11929.394266</td>\n",
       "      <td>47</td>\n",
       "      <td>3</td>\n",
       "      <td>12</td>\n",
       "      <td>2</td>\n",
       "      <td>1</td>\n",
       "      <td>0</td>\n",
       "      <td>2</td>\n",
       "      <td>...</td>\n",
       "      <td>0.0</td>\n",
       "      <td>93.125197</td>\n",
       "      <td>209.273158</td>\n",
       "      <td>57</td>\n",
       "      <td>7984.457871</td>\n",
       "      <td>0.0</td>\n",
       "      <td>0.0</td>\n",
       "      <td>25000</td>\n",
       "      <td>13000</td>\n",
       "      <td>0.219429</td>\n",
       "    </tr>\n",
       "    <tr>\n",
       "      <th>4</th>\n",
       "      <td>1</td>\n",
       "      <td>15</td>\n",
       "      <td>11917.722907</td>\n",
       "      <td>47</td>\n",
       "      <td>3</td>\n",
       "      <td>12</td>\n",
       "      <td>2</td>\n",
       "      <td>1</td>\n",
       "      <td>0</td>\n",
       "      <td>2</td>\n",
       "      <td>...</td>\n",
       "      <td>0.0</td>\n",
       "      <td>93.125197</td>\n",
       "      <td>232.690767</td>\n",
       "      <td>57</td>\n",
       "      <td>7994.813847</td>\n",
       "      <td>0.0</td>\n",
       "      <td>0.0</td>\n",
       "      <td>17000</td>\n",
       "      <td>12000</td>\n",
       "      <td>0.265410</td>\n",
       "    </tr>\n",
       "  </tbody>\n",
       "</table>\n",
       "<p>5 rows × 521 columns</p>\n",
       "</div>"
      ],
      "text/plain": [
       "   YY1  Y1         WGT09  AGE07  AGECL07  EDUC07  EDCL07  MARRIED07  KIDS07  \\\n",
       "0    1  11  11668.134198     47        3      12       2          1       0   \n",
       "1    1  12  11823.456494     47        3      12       2          1       0   \n",
       "2    1  13  11913.228354     47        3      12       2          1       0   \n",
       "3    1  14  11929.394266     47        3      12       2          1       0   \n",
       "4    1  15  11917.722907     47        3      12       2          1       0   \n",
       "\n",
       "   LIFECL07  ...  TRANSFOTHINCPCT  PSAVINGPCT  LEVERAGEPCT   I   RiskFree07  \\\n",
       "0         2  ...              0.0   93.125197   270.403054  57  7994.813847   \n",
       "1         2  ...              0.0   93.125197   249.593620  57  7994.813847   \n",
       "2         2  ...              0.0   93.125197   209.233358  57  7984.457871   \n",
       "3         2  ...              0.0   93.125197   209.273158  57  7984.457871   \n",
       "4         2  ...              0.0   93.125197   232.690767  57  7994.813847   \n",
       "\n",
       "   Risky07  RT07  RiskFree09  Risky09      RT09  \n",
       "0      0.0   0.0       16000    17000  0.330422  \n",
       "1      0.0   0.0       19000    18000  0.312036  \n",
       "2      0.0   0.0       13000    12000  0.307876  \n",
       "3      0.0   0.0       25000    13000  0.219429  \n",
       "4      0.0   0.0       17000    12000  0.265410  \n",
       "\n",
       "[5 rows x 521 columns]"
      ]
     },
     "execution_count": 8,
     "metadata": {},
     "output_type": "execute_result"
    }
   ],
   "source": [
    "dataset2 = copy.deepcopy(dataset)  \n",
    "dataset.head()"
   ]
  },
  {
   "cell_type": "code",
   "execution_count": 9,
   "id": "1ef5567d",
   "metadata": {
    "execution": {
     "iopub.execute_input": "2022-03-28T20:40:51.156791Z",
     "iopub.status.busy": "2022-03-28T20:40:51.155903Z",
     "iopub.status.idle": "2022-03-28T20:40:51.161169Z",
     "shell.execute_reply": "2022-03-28T20:40:51.161692Z",
     "shell.execute_reply.started": "2022-03-16T15:32:36.337874Z"
    },
    "papermill": {
     "duration": 0.041102,
     "end_time": "2022-03-28T20:40:51.161850",
     "exception": false,
     "start_time": "2022-03-28T20:40:51.120748",
     "status": "completed"
    },
    "tags": []
   },
   "outputs": [],
   "source": [
    "dataset2['PercentageChange'] = np.abs(dataset2['RT09']/dataset2['RT07']-1)"
   ]
  },
  {
   "cell_type": "code",
   "execution_count": 10,
   "id": "f0751bf4",
   "metadata": {
    "execution": {
     "iopub.execute_input": "2022-03-28T20:40:51.230211Z",
     "iopub.status.busy": "2022-03-28T20:40:51.229274Z",
     "iopub.status.idle": "2022-03-28T20:40:51.245284Z",
     "shell.execute_reply": "2022-03-28T20:40:51.245853Z",
     "shell.execute_reply.started": "2022-03-16T15:32:44.976596Z"
    },
    "papermill": {
     "duration": 0.051878,
     "end_time": "2022-03-28T20:40:51.246023",
     "exception": false,
     "start_time": "2022-03-28T20:40:51.194145",
     "status": "completed"
    },
    "tags": []
   },
   "outputs": [
    {
     "name": "stdout",
     "output_type": "stream",
     "text": [
      "Null Values = True\n"
     ]
    }
   ],
   "source": [
    "#Checking for any null values and removing the null values'''\n",
    "print('Null Values =',dataset2.isnull().values.any())"
   ]
  },
  {
   "cell_type": "code",
   "execution_count": 11,
   "id": "6dbc6af7",
   "metadata": {
    "execution": {
     "iopub.execute_input": "2022-03-28T20:40:51.315305Z",
     "iopub.status.busy": "2022-03-28T20:40:51.314363Z",
     "iopub.status.idle": "2022-03-28T20:40:51.451094Z",
     "shell.execute_reply": "2022-03-28T20:40:51.451544Z",
     "shell.execute_reply.started": "2022-03-16T15:32:55.071167Z"
    },
    "papermill": {
     "duration": 0.172605,
     "end_time": "2022-03-28T20:40:51.451705",
     "exception": false,
     "start_time": "2022-03-28T20:40:51.279100",
     "status": "completed"
    },
    "tags": []
   },
   "outputs": [
    {
     "name": "stdout",
     "output_type": "stream",
     "text": [
      "Null Values = False\n"
     ]
    }
   ],
   "source": [
    "# Drop the rows containing NA\n",
    "dataset2=dataset2.dropna(axis=0)\n",
    "\n",
    "dataset2=dataset2[~dataset2.isin([np.nan, np.inf, -np.inf]).any(1)]\n",
    "\n",
    "#Checking for any null values and removing the null values'''\n",
    "print('Null Values =',dataset2.isnull().values.any())"
   ]
  },
  {
   "cell_type": "code",
   "execution_count": 12,
   "id": "3968868e",
   "metadata": {
    "execution": {
     "iopub.execute_input": "2022-03-28T20:40:51.520795Z",
     "iopub.status.busy": "2022-03-28T20:40:51.519888Z",
     "iopub.status.idle": "2022-03-28T20:40:51.874937Z",
     "shell.execute_reply": "2022-03-28T20:40:51.875367Z",
     "shell.execute_reply.started": "2022-03-16T15:33:08.573239Z"
    },
    "papermill": {
     "duration": 0.391383,
     "end_time": "2022-03-28T20:40:51.875556",
     "exception": false,
     "start_time": "2022-03-28T20:40:51.484173",
     "status": "completed"
    },
    "tags": []
   },
   "outputs": [
    {
     "data": {
      "text/plain": [
       "<AxesSubplot:xlabel='RT07'>"
      ]
     },
     "execution_count": 12,
     "metadata": {},
     "output_type": "execute_result"
    },
    {
     "data": {
      "image/png": "[encoded data removed]",
      "text/plain": [
       "<Figure size 432x288 with 1 Axes>"
      ]
     },
     "metadata": {
      "needs_background": "light"
     },
     "output_type": "display_data"
    }
   ],
   "source": [
    "sns.distplot(dataset2['RT07'], hist=True, kde=False, \n",
    "             bins=int(180/5), color = 'blue',\n",
    "             hist_kws={'edgecolor':'black'})"
   ]
  },
  {
   "cell_type": "code",
   "execution_count": 13,
   "id": "b50d2c90",
   "metadata": {
    "execution": {
     "iopub.execute_input": "2022-03-28T20:40:51.946433Z",
     "iopub.status.busy": "2022-03-28T20:40:51.945522Z",
     "iopub.status.idle": "2022-03-28T20:40:52.219750Z",
     "shell.execute_reply": "2022-03-28T20:40:52.220169Z",
     "shell.execute_reply.started": "2022-03-16T15:33:21.14701Z"
    },
    "papermill": {
     "duration": 0.31105,
     "end_time": "2022-03-28T20:40:52.220340",
     "exception": false,
     "start_time": "2022-03-28T20:40:51.909290",
     "status": "completed"
    },
    "tags": []
   },
   "outputs": [
    {
     "data": {
      "text/plain": [
       "<AxesSubplot:xlabel='RT09'>"
      ]
     },
     "execution_count": 13,
     "metadata": {},
     "output_type": "execute_result"
    },
    {
     "data": {
      "image/png": "[encoded data removed]",
      "text/plain": [
       "<Figure size 432x288 with 1 Axes>"
      ]
     },
     "metadata": {
      "needs_background": "light"
     },
     "output_type": "display_data"
    }
   ],
   "source": [
    "sns.distplot(dataset2['RT09'], hist=True, kde=False, \n",
    "             bins=int(180/5), color = 'blue',\n",
    "             hist_kws={'edgecolor':'black'})"
   ]
  },
  {
   "cell_type": "code",
   "execution_count": 14,
   "id": "844999a0",
   "metadata": {
    "execution": {
     "iopub.execute_input": "2022-03-28T20:40:52.295654Z",
     "iopub.status.busy": "2022-03-28T20:40:52.294947Z",
     "iopub.status.idle": "2022-03-28T20:40:52.305447Z",
     "shell.execute_reply": "2022-03-28T20:40:52.304918Z",
     "shell.execute_reply.started": "2022-03-16T15:33:30.361783Z"
    },
    "papermill": {
     "duration": 0.049486,
     "end_time": "2022-03-28T20:40:52.305597",
     "exception": false,
     "start_time": "2022-03-28T20:40:52.256111",
     "status": "completed"
    },
    "tags": []
   },
   "outputs": [],
   "source": [
    "dataset3 = copy.deepcopy(dataset2)  "
   ]
  },
  {
   "cell_type": "code",
   "execution_count": 15,
   "id": "694261b2",
   "metadata": {
    "execution": {
     "iopub.execute_input": "2022-03-28T20:40:52.381238Z",
     "iopub.status.busy": "2022-03-28T20:40:52.380664Z",
     "iopub.status.idle": "2022-03-28T20:40:52.384262Z",
     "shell.execute_reply": "2022-03-28T20:40:52.384781Z",
     "shell.execute_reply.started": "2022-03-16T15:33:37.181222Z"
    },
    "papermill": {
     "duration": 0.044204,
     "end_time": "2022-03-28T20:40:52.384939",
     "exception": false,
     "start_time": "2022-03-28T20:40:52.340735",
     "status": "completed"
    },
    "tags": []
   },
   "outputs": [],
   "source": [
    "dataset3 = dataset3[dataset3['PercentageChange']<=.1]"
   ]
  },
  {
   "cell_type": "code",
   "execution_count": 16,
   "id": "2ae50d7f",
   "metadata": {
    "execution": {
     "iopub.execute_input": "2022-03-28T20:40:52.459256Z",
     "iopub.status.busy": "2022-03-28T20:40:52.458671Z",
     "iopub.status.idle": "2022-03-28T20:40:52.462812Z",
     "shell.execute_reply": "2022-03-28T20:40:52.462245Z",
     "shell.execute_reply.started": "2022-03-16T15:33:42.718639Z"
    },
    "papermill": {
     "duration": 0.043284,
     "end_time": "2022-03-28T20:40:52.462947",
     "exception": false,
     "start_time": "2022-03-28T20:40:52.419663",
     "status": "completed"
    },
    "tags": []
   },
   "outputs": [],
   "source": [
    "dataset3['TrueRiskTolerance'] = (dataset3['RT07'] + dataset3['RT09'])/2"
   ]
  },
  {
   "cell_type": "code",
   "execution_count": 17,
   "id": "ce7ec1cc",
   "metadata": {
    "execution": {
     "iopub.execute_input": "2022-03-28T20:40:52.540316Z",
     "iopub.status.busy": "2022-03-28T20:40:52.539721Z",
     "iopub.status.idle": "2022-03-28T20:40:52.544564Z",
     "shell.execute_reply": "2022-03-28T20:40:52.545113Z",
     "shell.execute_reply.started": "2022-03-16T15:33:48.848066Z"
    },
    "papermill": {
     "duration": 0.047528,
     "end_time": "2022-03-28T20:40:52.545273",
     "exception": false,
     "start_time": "2022-03-28T20:40:52.497745",
     "status": "completed"
    },
    "tags": []
   },
   "outputs": [],
   "source": [
    "dataset3.drop(labels=['RT07', 'RT09'], axis=1, inplace=True)\n",
    "dataset3.drop(labels=['PercentageChange'], axis=1, inplace=True)"
   ]
  },
  {
   "cell_type": "markdown",
   "id": "1c527b0f",
   "metadata": {
    "papermill": {
     "duration": 0.03427,
     "end_time": "2022-03-28T20:40:52.614331",
     "exception": false,
     "start_time": "2022-03-28T20:40:52.580061",
     "status": "completed"
    },
    "tags": []
   },
   "source": [
    "## The following are the key intuitive features that will be retained for further modelling:\n",
    "* AGE: There are 6 age categories, where 1 represents age less than 35 and 6 represents age more than 75.\n",
    "* EDUC: There are 4 education categories, where 1 represents no high school and 4 represents college degree.\n",
    "* MARRIED: It represents marital status. There are two categories where 1 represents married and 2 represents unmarried.\n",
    "* OCCU: It represents occupation category. 1 represents managerial category and 4 represents unemployed.\n",
    "* KIDS: It represents number of kids.\n",
    "* NWCAT: It represents net worth category. There are 5 categories, where 1 net worth less than 25 percentile and 5 represents net worth more than 90th percentile.\n",
    "* INCCL: It represents income category. There are 5 categories, where 1 income less than 10,000 and 5 represents net worth more than 100,000\n",
    "* RISK: It represents the willingness to take risk on a scale of 1 to 4, where 1 represents highest level of willingness to take risk."
   ]
  },
  {
   "cell_type": "code",
   "execution_count": 18,
   "id": "1d2dbda4",
   "metadata": {
    "execution": {
     "iopub.execute_input": "2022-03-28T20:40:52.687161Z",
     "iopub.status.busy": "2022-03-28T20:40:52.686554Z",
     "iopub.status.idle": "2022-03-28T20:40:52.693007Z",
     "shell.execute_reply": "2022-03-28T20:40:52.692510Z",
     "shell.execute_reply.started": "2022-03-16T15:33:55.989246Z"
    },
    "papermill": {
     "duration": 0.044305,
     "end_time": "2022-03-28T20:40:52.693140",
     "exception": false,
     "start_time": "2022-03-28T20:40:52.648835",
     "status": "completed"
    },
    "tags": []
   },
   "outputs": [],
   "source": [
    "keep_list2 = ['AGE07','EDCL07','MARRIED07','KIDS07','OCCAT107','INCOME07','RISK07','NETWORTH07','TrueRiskTolerance'\n",
    "]\n",
    "\n",
    "drop_list2 = [col for col in dataset3.columns if col not in keep_list2]\n",
    "\n",
    "dataset3.drop(labels=drop_list2, axis=1, inplace=True)"
   ]
  },
  {
   "cell_type": "code",
   "execution_count": 19,
   "id": "2cbf6350",
   "metadata": {
    "execution": {
     "iopub.execute_input": "2022-03-28T20:40:52.766333Z",
     "iopub.status.busy": "2022-03-28T20:40:52.765780Z",
     "iopub.status.idle": "2022-03-28T20:40:53.700213Z",
     "shell.execute_reply": "2022-03-28T20:40:53.700671Z",
     "shell.execute_reply.started": "2022-03-16T15:34:00.928299Z"
    },
    "papermill": {
     "duration": 0.972804,
     "end_time": "2022-03-28T20:40:53.700839",
     "exception": false,
     "start_time": "2022-03-28T20:40:52.728035",
     "status": "completed"
    },
    "tags": []
   },
   "outputs": [
    {
     "data": {
      "text/plain": [
       "<AxesSubplot:title={'center':'Correlation Matrix'}>"
      ]
     },
     "execution_count": 19,
     "metadata": {},
     "output_type": "execute_result"
    },
    {
     "data": {
      "image/png": "[encoded data removed]",
      "text/plain": [
       "<Figure size 1080x1080 with 2 Axes>"
      ]
     },
     "metadata": {
      "needs_background": "light"
     },
     "output_type": "display_data"
    }
   ],
   "source": [
    "# correlation\n",
    "correlation = dataset3.corr()\n",
    "plt.figure(figsize=(15,15))\n",
    "plt.title('Correlation Matrix')\n",
    "sns.heatmap(correlation, vmax=1, square=True,annot=True,cmap='cubehelix')"
   ]
  },
  {
   "cell_type": "code",
   "execution_count": 20,
   "id": "b24cf3c0",
   "metadata": {
    "execution": {
     "iopub.execute_input": "2022-03-28T20:40:53.781703Z",
     "iopub.status.busy": "2022-03-28T20:40:53.779035Z",
     "iopub.status.idle": "2022-03-28T20:40:57.428090Z",
     "shell.execute_reply": "2022-03-28T20:40:57.428576Z",
     "shell.execute_reply.started": "2022-03-16T15:34:13.682436Z"
    },
    "papermill": {
     "duration": 3.690087,
     "end_time": "2022-03-28T20:40:57.428747",
     "exception": false,
     "start_time": "2022-03-28T20:40:53.738660",
     "status": "completed"
    },
    "tags": []
   },
   "outputs": [
    {
     "data": {
      "text/plain": [
       "<Figure size 1080x1080 with 0 Axes>"
      ]
     },
     "metadata": {},
     "output_type": "display_data"
    },
    {
     "data": {
      "image/png": "[encoded data removed]",
      "text/plain": [
       "<Figure size 864x864 with 81 Axes>"
      ]
     },
     "metadata": {
      "needs_background": "light"
     },
     "output_type": "display_data"
    }
   ],
   "source": [
    "# Scatterplot Matrix\n",
    "from pandas.plotting import scatter_matrix\n",
    "plt.figure(figsize=(15,15))\n",
    "scatter_matrix(dataset3,figsize=(12,12))\n",
    "plt.show()"
   ]
  },
  {
   "cell_type": "markdown",
   "id": "00a60977",
   "metadata": {
    "papermill": {
     "duration": 0.042218,
     "end_time": "2022-03-28T20:40:57.513990",
     "exception": false,
     "start_time": "2022-03-28T20:40:57.471772",
     "status": "completed"
    },
    "tags": []
   },
   "source": [
    "## Train Test Split"
   ]
  },
  {
   "cell_type": "code",
   "execution_count": 21,
   "id": "4357d47e",
   "metadata": {
    "execution": {
     "iopub.execute_input": "2022-03-28T20:40:57.606124Z",
     "iopub.status.busy": "2022-03-28T20:40:57.602152Z",
     "iopub.status.idle": "2022-03-28T20:40:57.609326Z",
     "shell.execute_reply": "2022-03-28T20:40:57.609768Z",
     "shell.execute_reply.started": "2022-03-16T15:34:25.616993Z"
    },
    "papermill": {
     "duration": 0.053485,
     "end_time": "2022-03-28T20:40:57.609944",
     "exception": false,
     "start_time": "2022-03-28T20:40:57.556459",
     "status": "completed"
    },
    "tags": []
   },
   "outputs": [],
   "source": [
    "# split out validation dataset for the end\n",
    "Y= dataset3[\"TrueRiskTolerance\"]\n",
    "X = dataset3.loc[:, dataset3.columns != 'TrueRiskTolerance']\n",
    "# scaler = StandardScaler().fit(X)\n",
    "# rescaledX = scaler.transform(X)\n",
    "validation_size = 0.2\n",
    "seed = 3\n",
    "X_train, X_validation, Y_train, Y_validation = train_test_split(X, Y, test_size=validation_size, random_state=seed)"
   ]
  },
  {
   "cell_type": "code",
   "execution_count": 22,
   "id": "7cd4b6ad",
   "metadata": {
    "execution": {
     "iopub.execute_input": "2022-03-28T20:40:57.698771Z",
     "iopub.status.busy": "2022-03-28T20:40:57.698131Z",
     "iopub.status.idle": "2022-03-28T20:40:57.700066Z",
     "shell.execute_reply": "2022-03-28T20:40:57.700501Z",
     "shell.execute_reply.started": "2022-03-16T15:34:44.623021Z"
    },
    "papermill": {
     "duration": 0.0487,
     "end_time": "2022-03-28T20:40:57.700675",
     "exception": false,
     "start_time": "2022-03-28T20:40:57.651975",
     "status": "completed"
    },
    "tags": []
   },
   "outputs": [],
   "source": [
    "# test options for regression\n",
    "num_folds = 10\n",
    "#scoring = 'neg_mean_squared_error'\n",
    "#scoring ='neg_mean_absolute_error'\n",
    "scoring = 'r2'"
   ]
  },
  {
   "cell_type": "markdown",
   "id": "4ea7509a",
   "metadata": {
    "papermill": {
     "duration": 0.042208,
     "end_time": "2022-03-28T20:40:57.784746",
     "exception": false,
     "start_time": "2022-03-28T20:40:57.742538",
     "status": "completed"
    },
    "tags": []
   },
   "source": [
    "## Comparing Models/Algorithms with K-fold Cross Validation"
   ]
  },
  {
   "cell_type": "code",
   "execution_count": 23,
   "id": "d82d5e9e",
   "metadata": {
    "execution": {
     "iopub.execute_input": "2022-03-28T20:40:57.876000Z",
     "iopub.status.busy": "2022-03-28T20:40:57.875328Z",
     "iopub.status.idle": "2022-03-28T20:40:57.876944Z",
     "shell.execute_reply": "2022-03-28T20:40:57.877336Z",
     "shell.execute_reply.started": "2022-03-16T15:34:52.930877Z"
    },
    "papermill": {
     "duration": 0.050778,
     "end_time": "2022-03-28T20:40:57.877522",
     "exception": false,
     "start_time": "2022-03-28T20:40:57.826744",
     "status": "completed"
    },
    "tags": []
   },
   "outputs": [],
   "source": [
    "# spot check the algorithms\n",
    "models = []\n",
    "models.append(('LR', LinearRegression()))\n",
    "models.append(('LASSO', Lasso()))\n",
    "models.append(('EN', ElasticNet()))\n",
    "models.append(('KNN', KNeighborsRegressor()))\n",
    "models.append(('CART', DecisionTreeRegressor()))\n",
    "models.append(('SVR', SVR()))\n",
    "#Neural Network\n",
    "#models.append(('MLP', MLPRegressor()))\n",
    "#Ensable Models \n",
    "# Boosting methods\n",
    "models.append(('ABR', AdaBoostRegressor()))\n",
    "models.append(('GBR', GradientBoostingRegressor()))\n",
    "# Bagging methods\n",
    "models.append(('RFR', RandomForestRegressor()))\n",
    "models.append(('ETR', ExtraTreesRegressor()))"
   ]
  },
  {
   "cell_type": "code",
   "execution_count": 24,
   "id": "9c8a0047",
   "metadata": {
    "execution": {
     "iopub.execute_input": "2022-03-28T20:40:57.967202Z",
     "iopub.status.busy": "2022-03-28T20:40:57.966587Z",
     "iopub.status.idle": "2022-03-28T20:41:02.088499Z",
     "shell.execute_reply": "2022-03-28T20:41:02.088015Z",
     "shell.execute_reply.started": "2022-03-16T15:36:50.532821Z"
    },
    "papermill": {
     "duration": 4.169066,
     "end_time": "2022-03-28T20:41:02.088672",
     "exception": false,
     "start_time": "2022-03-28T20:40:57.919606",
     "status": "completed"
    },
    "tags": []
   },
   "outputs": [
    {
     "name": "stdout",
     "output_type": "stream",
     "text": [
      "LR: -0.105127 (0.103969)\n",
      "LASSO: -0.023692 (0.118324)\n",
      "EN: -0.031108 (0.117770)\n",
      "KNN: -0.409466 (0.166879)\n",
      "CART: -0.566303 (0.164437)\n",
      "SVR: -0.101482 (0.092744)\n",
      "ABR: -0.402677 (0.084476)\n",
      "GBR: -0.650102 (0.104161)\n",
      "RFR: -0.736366 (0.079853)\n",
      "ETR: -0.752701 (0.118432)\n"
     ]
    }
   ],
   "source": [
    "results = []\n",
    "names = []\n",
    "for name, model in models:\n",
    "    kfold = KFold(n_splits=num_folds)\n",
    "    #converted mean square error to positive. The lower the beter\n",
    "    cv_results = -1* cross_val_score(model, X_train, Y_train, cv=kfold, scoring=scoring)\n",
    "    results.append(cv_results)\n",
    "    names.append(name)\n",
    "    msg = \"%s: %f (%f)\" % (name, cv_results.mean(), cv_results.std())\n",
    "    print(msg)"
   ]
  },
  {
   "cell_type": "code",
   "execution_count": 25,
   "id": "622990b7",
   "metadata": {
    "execution": {
     "iopub.execute_input": "2022-03-28T20:41:02.195659Z",
     "iopub.status.busy": "2022-03-28T20:41:02.194705Z",
     "iopub.status.idle": "2022-03-28T20:41:02.447734Z",
     "shell.execute_reply": "2022-03-28T20:41:02.447212Z",
     "shell.execute_reply.started": "2022-03-16T15:38:38.398064Z"
    },
    "papermill": {
     "duration": 0.314764,
     "end_time": "2022-03-28T20:41:02.447883",
     "exception": false,
     "start_time": "2022-03-28T20:41:02.133119",
     "status": "completed"
    },
    "tags": []
   },
   "outputs": [
    {
     "data": {
      "image/png": "[encoded data removed]",
      "text/plain": [
       "<Figure size 1080x576 with 1 Axes>"
      ]
     },
     "metadata": {
      "needs_background": "light"
     },
     "output_type": "display_data"
    }
   ],
   "source": [
    "# compare algorithms\n",
    "fig = plt.figure()\n",
    "fig.suptitle('Algorithm Comparison')\n",
    "ax = fig.add_subplot(111)\n",
    "plt.boxplot(results)\n",
    "ax.set_xticklabels(names)\n",
    "fig.set_size_inches(15,8)\n",
    "plt.show()"
   ]
  },
  {
   "cell_type": "markdown",
   "id": "df5fc175",
   "metadata": {
    "papermill": {
     "duration": 0.045633,
     "end_time": "2022-03-28T20:41:02.538713",
     "exception": false,
     "start_time": "2022-03-28T20:41:02.493080",
     "status": "completed"
    },
    "tags": []
   },
   "source": [
    "## Model Tuning & Grid Search on the best model (i.e. RandomForest)"
   ]
  },
  {
   "cell_type": "code",
   "execution_count": 26,
   "id": "2c957ee4",
   "metadata": {
    "execution": {
     "iopub.execute_input": "2022-03-28T20:41:02.660193Z",
     "iopub.status.busy": "2022-03-28T20:41:02.659160Z",
     "iopub.status.idle": "2022-03-28T20:41:30.519877Z",
     "shell.execute_reply": "2022-03-28T20:41:30.520324Z",
     "shell.execute_reply.started": "2022-03-16T15:39:26.246044Z"
    },
    "papermill": {
     "duration": 27.937709,
     "end_time": "2022-03-28T20:41:30.520617",
     "exception": false,
     "start_time": "2022-03-28T20:41:02.582908",
     "status": "completed"
    },
    "tags": []
   },
   "outputs": [
    {
     "name": "stdout",
     "output_type": "stream",
     "text": [
      "Best: 0.741536 using {'n_estimators': 200}\n",
      "0.737718 (0.077397) with: {'n_estimators': 50}\n",
      "0.729351 (0.084204) with: {'n_estimators': 100}\n",
      "0.734122 (0.087629) with: {'n_estimators': 150}\n",
      "0.741536 (0.075538) with: {'n_estimators': 200}\n",
      "0.738243 (0.083984) with: {'n_estimators': 250}\n",
      "0.735689 (0.084542) with: {'n_estimators': 300}\n",
      "0.736351 (0.082858) with: {'n_estimators': 350}\n",
      "0.731559 (0.084571) with: {'n_estimators': 400}\n"
     ]
    }
   ],
   "source": [
    "# 8. Grid search : RandomForestRegressor \n",
    "'''\n",
    "n_estimators : integer, optional (default=10)\n",
    "    The number of trees in the forest.\n",
    "'''\n",
    "param_grid = {'n_estimators': [50,100,150,200,250,300,350,400]}\n",
    "model = RandomForestRegressor()\n",
    "kfold = KFold(n_splits=num_folds)\n",
    "grid = GridSearchCV(estimator=model, param_grid=param_grid, scoring=scoring, cv=kfold)\n",
    "grid_result = grid.fit(X_train, Y_train)\n",
    "print(\"Best: %f using %s\" % (grid_result.best_score_, grid_result.best_params_))\n",
    "means = grid_result.cv_results_['mean_test_score']\n",
    "stds = grid_result.cv_results_['std_test_score']\n",
    "params = grid_result.cv_results_['params']\n",
    "for mean, stdev, param in zip(means, stds, params):\n",
    "    print(\"%f (%f) with: %r\" % (mean, stdev, param))"
   ]
  },
  {
   "cell_type": "code",
   "execution_count": 27,
   "id": "0d61f936",
   "metadata": {
    "execution": {
     "iopub.execute_input": "2022-03-28T20:41:30.615885Z",
     "iopub.status.busy": "2022-03-28T20:41:30.615146Z",
     "iopub.status.idle": "2022-03-28T20:41:31.005506Z",
     "shell.execute_reply": "2022-03-28T20:41:31.004892Z",
     "shell.execute_reply.started": "2022-03-16T15:40:29.211796Z"
    },
    "papermill": {
     "duration": 0.438775,
     "end_time": "2022-03-28T20:41:31.005665",
     "exception": false,
     "start_time": "2022-03-28T20:41:30.566890",
     "status": "completed"
    },
    "tags": []
   },
   "outputs": [
    {
     "data": {
      "text/plain": [
       "RandomForestRegressor(n_estimators=250)"
      ]
     },
     "execution_count": 27,
     "metadata": {},
     "output_type": "execute_result"
    }
   ],
   "source": [
    "# prepare model\n",
    "model = RandomForestRegressor(n_estimators = 250)\n",
    "model.fit(X_train, Y_train)"
   ]
  },
  {
   "cell_type": "code",
   "execution_count": 28,
   "id": "517e163b",
   "metadata": {
    "execution": {
     "iopub.execute_input": "2022-03-28T20:41:31.104393Z",
     "iopub.status.busy": "2022-03-28T20:41:31.103817Z",
     "iopub.status.idle": "2022-03-28T20:41:31.137759Z",
     "shell.execute_reply": "2022-03-28T20:41:31.138214Z",
     "shell.execute_reply.started": "2022-03-16T15:40:47.074364Z"
    },
    "papermill": {
     "duration": 0.085863,
     "end_time": "2022-03-28T20:41:31.138375",
     "exception": false,
     "start_time": "2022-03-28T20:41:31.052512",
     "status": "completed"
    },
    "tags": []
   },
   "outputs": [
    {
     "name": "stdout",
     "output_type": "stream",
     "text": [
      "0.9661144700417595\n"
     ]
    }
   ],
   "source": [
    "from sklearn.metrics import r2_score\n",
    "predictions_train = model.predict(X_train)\n",
    "print(r2_score(Y_train, predictions_train))"
   ]
  },
  {
   "cell_type": "code",
   "execution_count": 29,
   "id": "df531fbc",
   "metadata": {
    "execution": {
     "iopub.execute_input": "2022-03-28T20:41:31.233349Z",
     "iopub.status.busy": "2022-03-28T20:41:31.232352Z",
     "iopub.status.idle": "2022-03-28T20:41:31.265538Z",
     "shell.execute_reply": "2022-03-28T20:41:31.265012Z",
     "shell.execute_reply.started": "2022-03-16T15:40:55.80661Z"
    },
    "papermill": {
     "duration": 0.081868,
     "end_time": "2022-03-28T20:41:31.265683",
     "exception": false,
     "start_time": "2022-03-28T20:41:31.183815",
     "status": "completed"
    },
    "tags": []
   },
   "outputs": [
    {
     "name": "stdout",
     "output_type": "stream",
     "text": [
      "0.007742677848910578\n",
      "0.7626499886405267\n"
     ]
    }
   ],
   "source": [
    "# estimate accuracy on validation set\n",
    "# transform the validation dataset\n",
    "from sklearn.metrics import mean_squared_error\n",
    "from sklearn.metrics import r2_score\n",
    "#rescaledValidationX = scaler.transform(X_validation)\n",
    "predictions = model.predict(X_validation)\n",
    "print(mean_squared_error(Y_validation, predictions))\n",
    "print(r2_score(Y_validation, predictions))"
   ]
  },
  {
   "cell_type": "markdown",
   "id": "b17d8f21",
   "metadata": {
    "papermill": {
     "duration": 0.046931,
     "end_time": "2022-03-28T20:41:31.360238",
     "exception": false,
     "start_time": "2022-03-28T20:41:31.313307",
     "status": "completed"
    },
    "tags": []
   },
   "source": [
    "## Feature Importance"
   ]
  },
  {
   "cell_type": "code",
   "execution_count": 30,
   "id": "b32055f0",
   "metadata": {
    "execution": {
     "iopub.execute_input": "2022-03-28T20:41:31.455899Z",
     "iopub.status.busy": "2022-03-28T20:41:31.454947Z",
     "iopub.status.idle": "2022-03-28T20:41:32.223937Z",
     "shell.execute_reply": "2022-03-28T20:41:32.224354Z",
     "shell.execute_reply.started": "2022-03-16T15:41:03.143521Z"
    },
    "papermill": {
     "duration": 0.818334,
     "end_time": "2022-03-28T20:41:32.224609",
     "exception": false,
     "start_time": "2022-03-28T20:41:31.406275",
     "status": "completed"
    },
    "tags": []
   },
   "outputs": [
    {
     "name": "stdout",
     "output_type": "stream",
     "text": [
      "[0.22345849 0.02557914 0.01371534 0.04735036 0.02369033 0.23235288\n",
      " 0.05223969 0.38161377]\n"
     ]
    },
    {
     "data": {
      "image/png": "[encoded data removed]",
      "text/plain": [
       "<Figure size 432x288 with 1 Axes>"
      ]
     },
     "metadata": {
      "needs_background": "light"
     },
     "output_type": "display_data"
    }
   ],
   "source": [
    "import pandas as pd\n",
    "import numpy as np\n",
    "model = RandomForestRegressor(n_estimators= 200,n_jobs=-1)\n",
    "model.fit(X_train,Y_train)\n",
    "print(model.feature_importances_) #use inbuilt class feature_importances of tree based classifiers\n",
    "#plot graph of feature importances for better visualization\n",
    "feat_importances = pd.Series(model.feature_importances_, index=X.columns)\n",
    "feat_importances.nlargest(10).plot(kind='barh')\n",
    "plt.show()"
   ]
  },
  {
   "cell_type": "markdown",
   "id": "5a0aa0b7",
   "metadata": {
    "papermill": {
     "duration": 0.048893,
     "end_time": "2022-03-28T20:41:32.320731",
     "exception": false,
     "start_time": "2022-03-28T20:41:32.271838",
     "status": "completed"
    },
    "tags": []
   },
   "source": [
    "## Saving the final model"
   ]
  },
  {
   "cell_type": "code",
   "execution_count": 31,
   "id": "17969560",
   "metadata": {
    "execution": {
     "iopub.execute_input": "2022-03-28T20:41:32.426916Z",
     "iopub.status.busy": "2022-03-28T20:41:32.420792Z",
     "iopub.status.idle": "2022-03-28T20:41:32.437798Z",
     "shell.execute_reply": "2022-03-28T20:41:32.437241Z",
     "shell.execute_reply.started": "2022-03-16T15:41:11.09971Z"
    },
    "papermill": {
     "duration": 0.067715,
     "end_time": "2022-03-28T20:41:32.437941",
     "exception": false,
     "start_time": "2022-03-28T20:41:32.370226",
     "status": "completed"
    },
    "tags": []
   },
   "outputs": [],
   "source": [
    "# Save Model Using Pickle\n",
    "from pickle import dump\n",
    "from pickle import load\n",
    "\n",
    "# save the model to disk\n",
    "filename = 'finalized_model.sav'\n",
    "dump(model, open(filename, 'wb'))"
   ]
  },
  {
   "cell_type": "code",
   "execution_count": 32,
   "id": "7591cf75",
   "metadata": {
    "execution": {
     "iopub.execute_input": "2022-03-28T20:41:32.538894Z",
     "iopub.status.busy": "2022-03-28T20:41:32.538230Z",
     "iopub.status.idle": "2022-03-28T20:41:32.658150Z",
     "shell.execute_reply": "2022-03-28T20:41:32.657379Z",
     "shell.execute_reply.started": "2022-03-16T15:41:18.550403Z"
    },
    "papermill": {
     "duration": 0.172156,
     "end_time": "2022-03-28T20:41:32.658324",
     "exception": false,
     "start_time": "2022-03-28T20:41:32.486168",
     "status": "completed"
    },
    "tags": []
   },
   "outputs": [
    {
     "name": "stdout",
     "output_type": "stream",
     "text": [
      "0.7712508500091739\n",
      "0.007462106137878649\n"
     ]
    }
   ],
   "source": [
    "# load the model from disk\n",
    "loaded_model = load(open(filename, 'rb'))\n",
    "# estimate accuracy on validation set\n",
    "predictions = loaded_model.predict(X_validation)\n",
    "result = mean_squared_error(Y_validation, predictions)\n",
    "print(r2_score(Y_validation, predictions))\n",
    "print(result)"
   ]
  },
  {
   "cell_type": "markdown",
   "id": "f4413c57",
   "metadata": {
    "papermill": {
     "duration": 0.050272,
     "end_time": "2022-03-28T20:41:32.757510",
     "exception": false,
     "start_time": "2022-03-28T20:41:32.707238",
     "status": "completed"
    },
    "tags": []
   },
   "source": [
    "# Conclusion:\n",
    "Thus, we could objectively ascertain investors' \"true\" risk tolerance, which plays crucial role in determining the suitable assets and the corresponding allocations thereby helping clients reach their financial goals in a more scientific way. "
   ]
  }
 ],
 "metadata": {
  "kernelspec": {
   "display_name": "Python 3",
   "language": "python",
   "name": "python3"
  },
  "language_info": {
   "codemirror_mode": {
    "name": "ipython",
    "version": 3
   },
   "file_extension": ".py",
   "mimetype": "text/x-python",
   "name": "python",
   "nbconvert_exporter": "python",
   "pygments_lexer": "ipython3",
   "version": "3.7.12"
  },
  "papermill": {
   "default_parameters": {},
   "duration": 200.686257,
   "end_time": "2022-03-28T20:41:36.037188",
   "environment_variables": {},
   "exception": null,
   "input_path": "__notebook__.ipynb",
   "output_path": "__notebook__.ipynb",
   "parameters": {},
   "start_time": "2022-03-28T20:38:15.350931",
   "version": "2.3.3"
  }
 },
 "nbformat": 4,
 "nbformat_minor": 5
}
