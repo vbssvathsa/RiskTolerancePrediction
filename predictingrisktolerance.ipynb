{
 "cells": [
  {
   "cell_type": "markdown",
   "id": "05e0ea09",
   "metadata": {
    "papermill": {
     "duration": 0.032193,
     "end_time": "2022-03-28T20:32:53.814519",
     "exception": false,
     "start_time": "2022-03-28T20:32:53.782326",
     "status": "completed"
    },
    "tags": []
   },
   "source": [
    "# Predicting Risk Tolerance of Investors (basis their demographic and investments data)"
   ]
  },
  {
   "cell_type": "code",
   "execution_count": 1,
   "id": "52101a44",
   "metadata": {
    "_cell_guid": "b1076dfc-b9ad-4769-8c92-a6c4dae69d19",
    "_uuid": "8f2839f25d086af736a60e9eeb907d3b93b6e0e5",
    "execution": {
     "iopub.execute_input": "2022-03-28T20:32:53.879849Z",
     "iopub.status.busy": "2022-03-28T20:32:53.878561Z",
     "iopub.status.idle": "2022-03-28T20:33:02.543648Z",
     "shell.execute_reply": "2022-03-28T20:33:02.542637Z",
     "shell.execute_reply.started": "2022-03-28T20:08:11.93957Z"
    },
    "papermill": {
     "duration": 8.698708,
     "end_time": "2022-03-28T20:33:02.543834",
     "exception": false,
     "start_time": "2022-03-28T20:32:53.845126",
     "status": "completed"
    },
    "tags": []
   },
   "outputs": [],
   "source": [
    "import numpy as np;\n",
    "import pandas as pd\n",
    "import pandas_datareader.data as web\n",
    "import matplotlib.pyplot as plt\n",
    "from pandas.plotting import scatter_matrix\n",
    "import seaborn as sns\n",
    "import copy \n",
    "from sklearn.preprocessing import StandardScaler\n",
    "\n",
    "from sklearn.model_selection import train_test_split\n",
    "from sklearn.model_selection import KFold\n",
    "from sklearn.model_selection import cross_val_score\n",
    "from sklearn.model_selection import GridSearchCV\n",
    "\n",
    "from sklearn.linear_model import LinearRegression\n",
    "from sklearn.linear_model import Lasso\n",
    "from sklearn.linear_model import ElasticNet\n",
    "from sklearn.tree import DecisionTreeRegressor\n",
    "from sklearn.neighbors import KNeighborsRegressor\n",
    "from sklearn.svm import SVR\n",
    "from sklearn.ensemble import RandomForestRegressor\n",
    "from sklearn.ensemble import GradientBoostingRegressor\n",
    "from sklearn.ensemble import ExtraTreesRegressor\n",
    "from sklearn.ensemble import AdaBoostRegressor\n",
    "from sklearn.neural_network import MLPRegressor\n",
    "\n",
    "#Libraries for Deep Learning Models\n",
    "from keras.models import Sequential\n",
    "from keras.layers import Dense\n",
    "#from keras.optimizers import SGD\n",
    "from keras.layers import LSTM\n",
    "from keras.wrappers.scikit_learn import KerasRegressor\n",
    "\n",
    "#Libraries for Statistical Models\n",
    "import statsmodels.api as sm\n",
    "\n",
    "#Libraries for Saving the Model\n",
    "from pickle import dump\n",
    "from pickle import load"
   ]
  },
  {
   "cell_type": "code",
   "execution_count": 2,
   "id": "0f99e4c6",
   "metadata": {
    "execution": {
     "iopub.execute_input": "2022-03-28T20:33:02.653448Z",
     "iopub.status.busy": "2022-03-28T20:33:02.652752Z",
     "iopub.status.idle": "2022-03-28T20:33:12.639682Z",
     "shell.execute_reply": "2022-03-28T20:33:12.638889Z",
     "shell.execute_reply.started": "2022-03-28T20:08:36.202606Z"
    },
    "papermill": {
     "duration": 10.03888,
     "end_time": "2022-03-28T20:33:12.639824",
     "exception": false,
     "start_time": "2022-03-28T20:33:02.600944",
     "status": "completed"
    },
    "tags": []
   },
   "outputs": [
    {
     "name": "stdout",
     "output_type": "stream",
     "text": [
      "Collecting openpyxl\r\n",
      "  Downloading openpyxl-3.0.9-py2.py3-none-any.whl (242 kB)\r\n",
      "     |████████████████████████████████| 242 kB 516 kB/s            \r\n",
      "\u001b[?25hCollecting et-xmlfile\r\n",
      "  Downloading et_xmlfile-1.1.0-py3-none-any.whl (4.7 kB)\r\n",
      "Installing collected packages: et-xmlfile, openpyxl\r\n",
      "Successfully installed et-xmlfile-1.1.0 openpyxl-3.0.9\r\n",
      "\u001b[33mWARNING: Running pip as the 'root' user can result in broken permissions and conflicting behaviour with the system package manager. It is recommended to use a virtual environment instead: https://pip.pypa.io/warnings/venv\u001b[0m\r\n"
     ]
    }
   ],
   "source": [
    "!pip install openpyxl"
   ]
  },
  {
   "cell_type": "markdown",
   "id": "41011dc8",
   "metadata": {
    "papermill": {
     "duration": 0.051413,
     "end_time": "2022-03-28T20:33:12.745918",
     "exception": false,
     "start_time": "2022-03-28T20:33:12.694505",
     "status": "completed"
    },
    "tags": []
   },
   "source": [
    "## Loading the Data"
   ]
  },
  {
   "cell_type": "code",
   "execution_count": 3,
   "id": "a265a628",
   "metadata": {
    "execution": {
     "iopub.execute_input": "2022-03-28T20:33:12.855857Z",
     "iopub.status.busy": "2022-03-28T20:33:12.854580Z",
     "iopub.status.idle": "2022-03-28T20:36:45.049696Z",
     "shell.execute_reply": "2022-03-28T20:36:45.049137Z",
     "shell.execute_reply.started": "2022-03-28T20:10:44.005147Z"
    },
    "papermill": {
     "duration": 212.252333,
     "end_time": "2022-03-28T20:36:45.049830",
     "exception": false,
     "start_time": "2022-03-28T20:33:12.797497",
     "status": "completed"
    },
    "tags": []
   },
   "outputs": [],
   "source": [
    "dataset = pd.read_excel('../input/scfp2009panel/SCFP2009panel.xlsx')"
   ]
  },
  {
   "cell_type": "code",
   "execution_count": 4,
   "id": "472dbc4b",
   "metadata": {
    "execution": {
     "iopub.execute_input": "2022-03-28T20:36:45.172101Z",
     "iopub.status.busy": "2022-03-28T20:36:45.171439Z",
     "iopub.status.idle": "2022-03-28T20:36:45.174158Z",
     "shell.execute_reply": "2022-03-28T20:36:45.174789Z",
     "shell.execute_reply.started": "2022-03-28T20:13:59.986199Z"
    },
    "papermill": {
     "duration": 0.063672,
     "end_time": "2022-03-28T20:36:45.174968",
     "exception": false,
     "start_time": "2022-03-28T20:36:45.111296",
     "status": "completed"
    },
    "tags": []
   },
   "outputs": [],
   "source": [
    "#Disable the warnings\n",
    "import warnings\n",
    "warnings.filterwarnings('ignore')"
   ]
  },
  {
   "cell_type": "code",
   "execution_count": 5,
   "id": "eadf6a79",
   "metadata": {
    "execution": {
     "iopub.execute_input": "2022-03-28T20:36:45.281568Z",
     "iopub.status.busy": "2022-03-28T20:36:45.280891Z",
     "iopub.status.idle": "2022-03-28T20:36:45.286305Z",
     "shell.execute_reply": "2022-03-28T20:36:45.286809Z",
     "shell.execute_reply.started": "2022-03-28T20:15:08.834666Z"
    },
    "papermill": {
     "duration": 0.060518,
     "end_time": "2022-03-28T20:36:45.286981",
     "exception": false,
     "start_time": "2022-03-28T20:36:45.226463",
     "status": "completed"
    },
    "tags": []
   },
   "outputs": [
    {
     "data": {
      "text/plain": [
       "pandas.core.frame.DataFrame"
      ]
     },
     "execution_count": 5,
     "metadata": {},
     "output_type": "execute_result"
    }
   ],
   "source": [
    "type(dataset)"
   ]
  },
  {
   "cell_type": "code",
   "execution_count": 6,
   "id": "1aaf3e57",
   "metadata": {
    "execution": {
     "iopub.execute_input": "2022-03-28T20:36:45.393497Z",
     "iopub.status.busy": "2022-03-28T20:36:45.392814Z",
     "iopub.status.idle": "2022-03-28T20:36:45.398851Z",
     "shell.execute_reply": "2022-03-28T20:36:45.398298Z",
     "shell.execute_reply.started": "2022-03-28T20:15:11.86647Z"
    },
    "papermill": {
     "duration": 0.060593,
     "end_time": "2022-03-28T20:36:45.398998",
     "exception": false,
     "start_time": "2022-03-28T20:36:45.338405",
     "status": "completed"
    },
    "tags": []
   },
   "outputs": [
    {
     "data": {
      "text/plain": [
       "(19285, 515)"
      ]
     },
     "execution_count": 6,
     "metadata": {},
     "output_type": "execute_result"
    }
   ],
   "source": [
    "dataset.shape"
   ]
  },
  {
   "cell_type": "markdown",
   "id": "c6e34619",
   "metadata": {
    "papermill": {
     "duration": 0.052507,
     "end_time": "2022-03-28T20:36:45.503721",
     "exception": false,
     "start_time": "2022-03-28T20:36:45.451214",
     "status": "completed"
    },
    "tags": []
   },
   "source": [
    "## Data Preparation and Feature Selection"
   ]
  },
  {
   "cell_type": "code",
   "execution_count": 7,
   "id": "be53ecf9",
   "metadata": {
    "execution": {
     "iopub.execute_input": "2022-03-28T20:36:45.627645Z",
     "iopub.status.busy": "2022-03-28T20:36:45.620231Z",
     "iopub.status.idle": "2022-03-28T20:36:45.633295Z",
     "shell.execute_reply": "2022-03-28T20:36:45.632683Z",
     "shell.execute_reply.started": "2022-03-28T20:15:18.203914Z"
    },
    "papermill": {
     "duration": 0.076598,
     "end_time": "2022-03-28T20:36:45.633433",
     "exception": false,
     "start_time": "2022-03-28T20:36:45.556835",
     "status": "completed"
    },
    "tags": []
   },
   "outputs": [],
   "source": [
    "#Average SP500 during 2007 and 2009\n",
    "Average_SP500_2007=1478\n",
    "Average_SP500_2009=948\n",
    "\n",
    "#Risk Tolerance 2007\n",
    "dataset['RiskFree07']= dataset['LIQ07'] + dataset['CDS07'] + dataset['SAVBND07'] + dataset['CASHLI07']\n",
    "dataset['Risky07'] = dataset['NMMF07'] + dataset['STOCKS07'] + dataset['BOND07'] \n",
    "dataset['RT07'] = dataset['Risky07']/(dataset['Risky07']+dataset['RiskFree07'])\n",
    "\n",
    "#Risk Tolerance 2009\n",
    "dataset['RiskFree09']= dataset['LIQ09'] + dataset['CDS09'] + dataset['SAVBND09'] + dataset['CASHLI09']\n",
    "dataset['Risky09'] = dataset['NMMF09'] + dataset['STOCKS09'] + dataset['BOND09'] \n",
    "dataset['RT09'] = dataset['Risky09']/(dataset['Risky09']+dataset['RiskFree09'])*\\\n",
    "                (Average_SP500_2009/Average_SP500_2007)"
   ]
  },
  {
   "cell_type": "code",
   "execution_count": 8,
   "id": "73d78a5d",
   "metadata": {
    "execution": {
     "iopub.execute_input": "2022-03-28T20:36:45.744111Z",
     "iopub.status.busy": "2022-03-28T20:36:45.743451Z",
     "iopub.status.idle": "2022-03-28T20:36:45.811230Z",
     "shell.execute_reply": "2022-03-28T20:36:45.810550Z",
     "shell.execute_reply.started": "2022-03-28T20:15:22.554429Z"
    },
    "papermill": {
     "duration": 0.124779,
     "end_time": "2022-03-28T20:36:45.811366",
     "exception": false,
     "start_time": "2022-03-28T20:36:45.686587",
     "status": "completed"
    },
    "tags": []
   },
   "outputs": [
    {
     "data": {
      "text/html": [
       "<div>\n",
       "<style scoped>\n",
       "    .dataframe tbody tr th:only-of-type {\n",
       "        vertical-align: middle;\n",
       "    }\n",
       "\n",
       "    .dataframe tbody tr th {\n",
       "        vertical-align: top;\n",
       "    }\n",
       "\n",
       "    .dataframe thead th {\n",
       "        text-align: right;\n",
       "    }\n",
       "</style>\n",
       "<table border=\"1\" class=\"dataframe\">\n",
       "  <thead>\n",
       "    <tr style=\"text-align: right;\">\n",
       "      <th></th>\n",
       "      <th>YY1</th>\n",
       "      <th>Y1</th>\n",
       "      <th>WGT09</th>\n",
       "      <th>AGE07</th>\n",
       "      <th>AGECL07</th>\n",
       "      <th>EDUC07</th>\n",
       "      <th>EDCL07</th>\n",
       "      <th>MARRIED07</th>\n",
       "      <th>KIDS07</th>\n",
       "      <th>LIFECL07</th>\n",
       "      <th>...</th>\n",
       "      <th>TRANSFOTHINCPCT</th>\n",
       "      <th>PSAVINGPCT</th>\n",
       "      <th>LEVERAGEPCT</th>\n",
       "      <th>I</th>\n",
       "      <th>RiskFree07</th>\n",
       "      <th>Risky07</th>\n",
       "      <th>RT07</th>\n",
       "      <th>RiskFree09</th>\n",
       "      <th>Risky09</th>\n",
       "      <th>RT09</th>\n",
       "    </tr>\n",
       "  </thead>\n",
       "  <tbody>\n",
       "    <tr>\n",
       "      <th>0</th>\n",
       "      <td>1</td>\n",
       "      <td>11</td>\n",
       "      <td>11668.134198</td>\n",
       "      <td>47</td>\n",
       "      <td>3</td>\n",
       "      <td>12</td>\n",
       "      <td>2</td>\n",
       "      <td>1</td>\n",
       "      <td>0</td>\n",
       "      <td>2</td>\n",
       "      <td>...</td>\n",
       "      <td>0.0</td>\n",
       "      <td>93.125197</td>\n",
       "      <td>270.403054</td>\n",
       "      <td>57</td>\n",
       "      <td>7994.813847</td>\n",
       "      <td>0.0</td>\n",
       "      <td>0.0</td>\n",
       "      <td>16000</td>\n",
       "      <td>17000</td>\n",
       "      <td>0.330422</td>\n",
       "    </tr>\n",
       "    <tr>\n",
       "      <th>1</th>\n",
       "      <td>1</td>\n",
       "      <td>12</td>\n",
       "      <td>11823.456494</td>\n",
       "      <td>47</td>\n",
       "      <td>3</td>\n",
       "      <td>12</td>\n",
       "      <td>2</td>\n",
       "      <td>1</td>\n",
       "      <td>0</td>\n",
       "      <td>2</td>\n",
       "      <td>...</td>\n",
       "      <td>0.0</td>\n",
       "      <td>93.125197</td>\n",
       "      <td>249.593620</td>\n",
       "      <td>57</td>\n",
       "      <td>7994.813847</td>\n",
       "      <td>0.0</td>\n",
       "      <td>0.0</td>\n",
       "      <td>19000</td>\n",
       "      <td>18000</td>\n",
       "      <td>0.312036</td>\n",
       "    </tr>\n",
       "    <tr>\n",
       "      <th>2</th>\n",
       "      <td>1</td>\n",
       "      <td>13</td>\n",
       "      <td>11913.228354</td>\n",
       "      <td>47</td>\n",
       "      <td>3</td>\n",
       "      <td>12</td>\n",
       "      <td>2</td>\n",
       "      <td>1</td>\n",
       "      <td>0</td>\n",
       "      <td>2</td>\n",
       "      <td>...</td>\n",
       "      <td>0.0</td>\n",
       "      <td>93.125197</td>\n",
       "      <td>209.233358</td>\n",
       "      <td>57</td>\n",
       "      <td>7984.457871</td>\n",
       "      <td>0.0</td>\n",
       "      <td>0.0</td>\n",
       "      <td>13000</td>\n",
       "      <td>12000</td>\n",
       "      <td>0.307876</td>\n",
       "    </tr>\n",
       "    <tr>\n",
       "      <th>3</th>\n",
       "      <td>1</td>\n",
       "      <td>14</td>\n",
       "      <td>11929.394266</td>\n",
       "      <td>47</td>\n",
       "      <td>3</td>\n",
       "      <td>12</td>\n",
       "      <td>2</td>\n",
       "      <td>1</td>\n",
       "      <td>0</td>\n",
       "      <td>2</td>\n",
       "      <td>...</td>\n",
       "      <td>0.0</td>\n",
       "      <td>93.125197</td>\n",
       "      <td>209.273158</td>\n",
       "      <td>57</td>\n",
       "      <td>7984.457871</td>\n",
       "      <td>0.0</td>\n",
       "      <td>0.0</td>\n",
       "      <td>25000</td>\n",
       "      <td>13000</td>\n",
       "      <td>0.219429</td>\n",
       "    </tr>\n",
       "    <tr>\n",
       "      <th>4</th>\n",
       "      <td>1</td>\n",
       "      <td>15</td>\n",
       "      <td>11917.722907</td>\n",
       "      <td>47</td>\n",
       "      <td>3</td>\n",
       "      <td>12</td>\n",
       "      <td>2</td>\n",
       "      <td>1</td>\n",
       "      <td>0</td>\n",
       "      <td>2</td>\n",
       "      <td>...</td>\n",
       "      <td>0.0</td>\n",
       "      <td>93.125197</td>\n",
       "      <td>232.690767</td>\n",
       "      <td>57</td>\n",
       "      <td>7994.813847</td>\n",
       "      <td>0.0</td>\n",
       "      <td>0.0</td>\n",
       "      <td>17000</td>\n",
       "      <td>12000</td>\n",
       "      <td>0.265410</td>\n",
       "    </tr>\n",
       "  </tbody>\n",
       "</table>\n",
       "<p>5 rows × 521 columns</p>\n",
       "</div>"
      ],
      "text/plain": [
       "   YY1  Y1         WGT09  AGE07  AGECL07  EDUC07  EDCL07  MARRIED07  KIDS07  \\\n",
       "0    1  11  11668.134198     47        3      12       2          1       0   \n",
       "1    1  12  11823.456494     47        3      12       2          1       0   \n",
       "2    1  13  11913.228354     47        3      12       2          1       0   \n",
       "3    1  14  11929.394266     47        3      12       2          1       0   \n",
       "4    1  15  11917.722907     47        3      12       2          1       0   \n",
       "\n",
       "   LIFECL07  ...  TRANSFOTHINCPCT  PSAVINGPCT  LEVERAGEPCT   I   RiskFree07  \\\n",
       "0         2  ...              0.0   93.125197   270.403054  57  7994.813847   \n",
       "1         2  ...              0.0   93.125197   249.593620  57  7994.813847   \n",
       "2         2  ...              0.0   93.125197   209.233358  57  7984.457871   \n",
       "3         2  ...              0.0   93.125197   209.273158  57  7984.457871   \n",
       "4         2  ...              0.0   93.125197   232.690767  57  7994.813847   \n",
       "\n",
       "   Risky07  RT07  RiskFree09  Risky09      RT09  \n",
       "0      0.0   0.0       16000    17000  0.330422  \n",
       "1      0.0   0.0       19000    18000  0.312036  \n",
       "2      0.0   0.0       13000    12000  0.307876  \n",
       "3      0.0   0.0       25000    13000  0.219429  \n",
       "4      0.0   0.0       17000    12000  0.265410  \n",
       "\n",
       "[5 rows x 521 columns]"
      ]
     },
     "execution_count": 8,
     "metadata": {},
     "output_type": "execute_result"
    }
   ],
   "source": [
    "dataset2 = copy.deepcopy(dataset)  \n",
    "dataset.head()"
   ]
  },
  {
   "cell_type": "code",
   "execution_count": 9,
   "id": "027226b0",
   "metadata": {
    "execution": {
     "iopub.execute_input": "2022-03-28T20:36:45.924424Z",
     "iopub.status.busy": "2022-03-28T20:36:45.922754Z",
     "iopub.status.idle": "2022-03-28T20:36:45.927628Z",
     "shell.execute_reply": "2022-03-28T20:36:45.927167Z",
     "shell.execute_reply.started": "2022-03-16T15:32:36.337874Z"
    },
    "papermill": {
     "duration": 0.062392,
     "end_time": "2022-03-28T20:36:45.927743",
     "exception": false,
     "start_time": "2022-03-28T20:36:45.865351",
     "status": "completed"
    },
    "tags": []
   },
   "outputs": [],
   "source": [
    "dataset2['PercentageChange'] = np.abs(dataset2['RT09']/dataset2['RT07']-1)"
   ]
  },
  {
   "cell_type": "code",
   "execution_count": 10,
   "id": "cd853453",
   "metadata": {
    "execution": {
     "iopub.execute_input": "2022-03-28T20:36:46.004563Z",
     "iopub.status.busy": "2022-03-28T20:36:46.003629Z",
     "iopub.status.idle": "2022-03-28T20:36:46.014514Z",
     "shell.execute_reply": "2022-03-28T20:36:46.014980Z",
     "shell.execute_reply.started": "2022-03-16T15:32:44.976596Z"
    },
    "papermill": {
     "duration": 0.052627,
     "end_time": "2022-03-28T20:36:46.015175",
     "exception": false,
     "start_time": "2022-03-28T20:36:45.962548",
     "status": "completed"
    },
    "tags": []
   },
   "outputs": [
    {
     "name": "stdout",
     "output_type": "stream",
     "text": [
      "Null Values = True\n"
     ]
    }
   ],
   "source": [
    "#Checking for any null values and removing the null values'''\n",
    "print('Null Values =',dataset2.isnull().values.any())"
   ]
  },
  {
   "cell_type": "code",
   "execution_count": 11,
   "id": "86bb9e10",
   "metadata": {
    "execution": {
     "iopub.execute_input": "2022-03-28T20:36:46.094180Z",
     "iopub.status.busy": "2022-03-28T20:36:46.093642Z",
     "iopub.status.idle": "2022-03-28T20:36:46.195362Z",
     "shell.execute_reply": "2022-03-28T20:36:46.194736Z",
     "shell.execute_reply.started": "2022-03-16T15:32:55.071167Z"
    },
    "papermill": {
     "duration": 0.144469,
     "end_time": "2022-03-28T20:36:46.195498",
     "exception": false,
     "start_time": "2022-03-28T20:36:46.051029",
     "status": "completed"
    },
    "tags": []
   },
   "outputs": [
    {
     "name": "stdout",
     "output_type": "stream",
     "text": [
      "Null Values = False\n"
     ]
    }
   ],
   "source": [
    "# Drop the rows containing NA\n",
    "dataset2=dataset2.dropna(axis=0)\n",
    "\n",
    "dataset2=dataset2[~dataset2.isin([np.nan, np.inf, -np.inf]).any(1)]\n",
    "\n",
    "#Checking for any null values and removing the null values'''\n",
    "print('Null Values =',dataset2.isnull().values.any())"
   ]
  },
  {
   "cell_type": "code",
   "execution_count": 12,
   "id": "02964eb4",
   "metadata": {
    "execution": {
     "iopub.execute_input": "2022-03-28T20:36:46.277751Z",
     "iopub.status.busy": "2022-03-28T20:36:46.273313Z",
     "iopub.status.idle": "2022-03-28T20:36:46.599202Z",
     "shell.execute_reply": "2022-03-28T20:36:46.598501Z",
     "shell.execute_reply.started": "2022-03-16T15:33:08.573239Z"
    },
    "papermill": {
     "duration": 0.367443,
     "end_time": "2022-03-28T20:36:46.599364",
     "exception": false,
     "start_time": "2022-03-28T20:36:46.231921",
     "status": "completed"
    },
    "tags": []
   },
   "outputs": [
    {
     "data": {
      "text/plain": [
       "<AxesSubplot:xlabel='RT07'>"
      ]
     },
     "execution_count": 12,
     "metadata": {},
     "output_type": "execute_result"
    },
    {
     "data": {
      "image/png": "[encoded data removed]",
      "text/plain": [
       "<Figure size 432x288 with 1 Axes>"
      ]
     },
     "metadata": {
      "needs_background": "light"
     },
     "output_type": "display_data"
    }
   ],
   "source": [
    "sns.distplot(dataset2['RT07'], hist=True, kde=False, \n",
    "             bins=int(180/5), color = 'blue',\n",
    "             hist_kws={'edgecolor':'black'})"
   ]
  },
  {
   "cell_type": "code",
   "execution_count": 13,
   "id": "5c27b257",
   "metadata": {
    "execution": {
     "iopub.execute_input": "2022-03-28T20:36:46.685968Z",
     "iopub.status.busy": "2022-03-28T20:36:46.685264Z",
     "iopub.status.idle": "2022-03-28T20:36:46.936470Z",
     "shell.execute_reply": "2022-03-28T20:36:46.935981Z",
     "shell.execute_reply.started": "2022-03-16T15:33:21.14701Z"
    },
    "papermill": {
     "duration": 0.291476,
     "end_time": "2022-03-28T20:36:46.936649",
     "exception": false,
     "start_time": "2022-03-28T20:36:46.645173",
     "status": "completed"
    },
    "tags": []
   },
   "outputs": [
    {
     "data": {
      "text/plain": [
       "<AxesSubplot:xlabel='RT09'>"
      ]
     },
     "execution_count": 13,
     "metadata": {},
     "output_type": "execute_result"
    },
    {
     "data": {
      "image/png": "[encoded data removed]",
      "text/plain": [
       "<Figure size 432x288 with 1 Axes>"
      ]
     },
     "metadata": {
      "needs_background": "light"
     },
     "output_type": "display_data"
    }
   ],
   "source": [
    "sns.distplot(dataset2['RT09'], hist=True, kde=False, \n",
    "             bins=int(180/5), color = 'blue',\n",
    "             hist_kws={'edgecolor':'black'})"
   ]
  },
  {
   "cell_type": "code",
   "execution_count": 14,
   "id": "85cb22b1",
   "metadata": {
    "execution": {
     "iopub.execute_input": "2022-03-28T20:36:47.018677Z",
     "iopub.status.busy": "2022-03-28T20:36:47.018184Z",
     "iopub.status.idle": "2022-03-28T20:36:47.024579Z",
     "shell.execute_reply": "2022-03-28T20:36:47.024057Z",
     "shell.execute_reply.started": "2022-03-16T15:33:30.361783Z"
    },
    "papermill": {
     "duration": 0.04865,
     "end_time": "2022-03-28T20:36:47.024690",
     "exception": false,
     "start_time": "2022-03-28T20:36:46.976040",
     "status": "completed"
    },
    "tags": []
   },
   "outputs": [],
   "source": [
    "dataset3 = copy.deepcopy(dataset2)  "
   ]
  },
  {
   "cell_type": "code",
   "execution_count": 15,
   "id": "c43856bc",
   "metadata": {
    "execution": {
     "iopub.execute_input": "2022-03-28T20:36:47.103343Z",
     "iopub.status.busy": "2022-03-28T20:36:47.102846Z",
     "iopub.status.idle": "2022-03-28T20:36:47.110346Z",
     "shell.execute_reply": "2022-03-28T20:36:47.110767Z",
     "shell.execute_reply.started": "2022-03-16T15:33:37.181222Z"
    },
    "papermill": {
     "duration": 0.048503,
     "end_time": "2022-03-28T20:36:47.110908",
     "exception": false,
     "start_time": "2022-03-28T20:36:47.062405",
     "status": "completed"
    },
    "tags": []
   },
   "outputs": [],
   "source": [
    "dataset3 = dataset3[dataset3['PercentageChange']<=.1]"
   ]
  },
  {
   "cell_type": "code",
   "execution_count": 16,
   "id": "6d98d109",
   "metadata": {
    "execution": {
     "iopub.execute_input": "2022-03-28T20:36:47.192818Z",
     "iopub.status.busy": "2022-03-28T20:36:47.190169Z",
     "iopub.status.idle": "2022-03-28T20:36:47.195488Z",
     "shell.execute_reply": "2022-03-28T20:36:47.195880Z",
     "shell.execute_reply.started": "2022-03-16T15:33:42.718639Z"
    },
    "papermill": {
     "duration": 0.047369,
     "end_time": "2022-03-28T20:36:47.196026",
     "exception": false,
     "start_time": "2022-03-28T20:36:47.148657",
     "status": "completed"
    },
    "tags": []
   },
   "outputs": [],
   "source": [
    "dataset3['TrueRiskTolerance'] = (dataset3['RT07'] + dataset3['RT09'])/2"
   ]
  },
  {
   "cell_type": "code",
   "execution_count": 17,
   "id": "31e5a5fb",
   "metadata": {
    "execution": {
     "iopub.execute_input": "2022-03-28T20:36:47.281509Z",
     "iopub.status.busy": "2022-03-28T20:36:47.280761Z",
     "iopub.status.idle": "2022-03-28T20:36:47.285693Z",
     "shell.execute_reply": "2022-03-28T20:36:47.286197Z",
     "shell.execute_reply.started": "2022-03-16T15:33:48.848066Z"
    },
    "papermill": {
     "duration": 0.053181,
     "end_time": "2022-03-28T20:36:47.286365",
     "exception": false,
     "start_time": "2022-03-28T20:36:47.233184",
     "status": "completed"
    },
    "tags": []
   },
   "outputs": [],
   "source": [
    "dataset3.drop(labels=['RT07', 'RT09'], axis=1, inplace=True)\n",
    "dataset3.drop(labels=['PercentageChange'], axis=1, inplace=True)"
   ]
  },
  {
   "cell_type": "markdown",
   "id": "19b4b3d7",
   "metadata": {
    "papermill": {
     "duration": 0.055888,
     "end_time": "2022-03-28T20:36:47.401267",
     "exception": false,
     "start_time": "2022-03-28T20:36:47.345379",
     "status": "completed"
    },
    "tags": []
   },
   "source": [
    "## The following are the key intuitive features that will be retained for further modelling:\n",
    "* AGE: There are 6 age categories, where 1 represents age less than 35 and 6 represents age more than 75.\n",
    "* EDUC: There are 4 education categories, where 1 represents no high school and 4 represents college degree.\n",
    "* MARRIED: It represents marital status. There are two categories where 1 represents married and 2 represents unmarried.\n",
    "* OCCU: It represents occupation category. 1 represents managerial category and 4 represents unemployed.\n",
    "* KIDS: It represents number of kids.\n",
    "* NWCAT: It represents net worth category. There are 5 categories, where 1 net worth less than 25 percentile and 5 represents net worth more than 90th percentile.\n",
    "* INCCL: It represents income category. There are 5 categories, where 1 income less than 10,000 and 5 represents net worth more than 100,000\n",
    "* RISK: It represents the willingness to take risk on a scale of 1 to 4, where 1 represents highest level of willingness to take risk."
   ]
  },
  {
   "cell_type": "code",
   "execution_count": 18,
   "id": "3cc4284c",
   "metadata": {
    "execution": {
     "iopub.execute_input": "2022-03-28T20:36:47.517368Z",
     "iopub.status.busy": "2022-03-28T20:36:47.516736Z",
     "iopub.status.idle": "2022-03-28T20:36:47.522198Z",
     "shell.execute_reply": "2022-03-28T20:36:47.522695Z",
     "shell.execute_reply.started": "2022-03-16T15:33:55.989246Z"
    },
    "papermill": {
     "duration": 0.065115,
     "end_time": "2022-03-28T20:36:47.522879",
     "exception": false,
     "start_time": "2022-03-28T20:36:47.457764",
     "status": "completed"
    },
    "tags": []
   },
   "outputs": [],
   "source": [
    "keep_list2 = ['AGE07','EDCL07','MARRIED07','KIDS07','OCCAT107','INCOME07','RISK07','NETWORTH07','TrueRiskTolerance'\n",
    "]\n",
    "\n",
    "drop_list2 = [col for col in dataset3.columns if col not in keep_list2]\n",
    "\n",
    "dataset3.drop(labels=drop_list2, axis=1, inplace=True)"
   ]
  },
  {
   "cell_type": "code",
   "execution_count": 19,
   "id": "4942fb74",
   "metadata": {
    "execution": {
     "iopub.execute_input": "2022-03-28T20:36:47.642229Z",
     "iopub.status.busy": "2022-03-28T20:36:47.641455Z",
     "iopub.status.idle": "2022-03-28T20:36:48.489809Z",
     "shell.execute_reply": "2022-03-28T20:36:48.489297Z",
     "shell.execute_reply.started": "2022-03-16T15:34:00.928299Z"
    },
    "papermill": {
     "duration": 0.908886,
     "end_time": "2022-03-28T20:36:48.489944",
     "exception": false,
     "start_time": "2022-03-28T20:36:47.581058",
     "status": "completed"
    },
    "tags": []
   },
   "outputs": [
    {
     "data": {
      "text/plain": [
       "<AxesSubplot:title={'center':'Correlation Matrix'}>"
      ]
     },
     "execution_count": 19,
     "metadata": {},
     "output_type": "execute_result"
    },
    {
     "data": {
      "image/png": "[encoded data removed]",
      "text/plain": [
       "<Figure size 1080x1080 with 2 Axes>"
      ]
     },
     "metadata": {
      "needs_background": "light"
     },
     "output_type": "display_data"
    }
   ],
   "source": [
    "# correlation\n",
    "correlation = dataset3.corr()\n",
    "plt.figure(figsize=(15,15))\n",
    "plt.title('Correlation Matrix')\n",
    "sns.heatmap(correlation, vmax=1, square=True,annot=True,cmap='cubehelix')"
   ]
  },
  {
   "cell_type": "code",
   "execution_count": 20,
   "id": "9441b05f",
   "metadata": {
    "execution": {
     "iopub.execute_input": "2022-03-28T20:36:48.616685Z",
     "iopub.status.busy": "2022-03-28T20:36:48.616001Z",
     "iopub.status.idle": "2022-03-28T20:36:51.841438Z",
     "shell.execute_reply": "2022-03-28T20:36:51.840779Z",
     "shell.execute_reply.started": "2022-03-16T15:34:13.682436Z"
    },
    "papermill": {
     "duration": 3.291696,
     "end_time": "2022-03-28T20:36:51.841570",
     "exception": false,
     "start_time": "2022-03-28T20:36:48.549874",
     "status": "completed"
    },
    "tags": []
   },
   "outputs": [
    {
     "data": {
      "text/plain": [
       "<Figure size 1080x1080 with 0 Axes>"
      ]
     },
     "metadata": {},
     "output_type": "display_data"
    },
    {
     "data": {
      "image/png": "[encoded data removed]",
      "text/plain": [
       "<Figure size 864x864 with 81 Axes>"
      ]
     },
     "metadata": {
      "needs_background": "light"
     },
     "output_type": "display_data"
    }
   ],
   "source": [
    "# Scatterplot Matrix\n",
    "from pandas.plotting import scatter_matrix\n",
    "plt.figure(figsize=(15,15))\n",
    "scatter_matrix(dataset3,figsize=(12,12))\n",
    "plt.show()"
   ]
  },
  {
   "cell_type": "markdown",
   "id": "6c663a17",
   "metadata": {
    "papermill": {
     "duration": 0.061708,
     "end_time": "2022-03-28T20:36:51.966036",
     "exception": false,
     "start_time": "2022-03-28T20:36:51.904328",
     "status": "completed"
    },
    "tags": []
   },
   "source": [
    "## Train Test Split"
   ]
  },
  {
   "cell_type": "code",
   "execution_count": 21,
   "id": "f07bf359",
   "metadata": {
    "execution": {
     "iopub.execute_input": "2022-03-28T20:36:52.097448Z",
     "iopub.status.busy": "2022-03-28T20:36:52.096627Z",
     "iopub.status.idle": "2022-03-28T20:36:52.104232Z",
     "shell.execute_reply": "2022-03-28T20:36:52.104751Z",
     "shell.execute_reply.started": "2022-03-16T15:34:25.616993Z"
    },
    "papermill": {
     "duration": 0.076181,
     "end_time": "2022-03-28T20:36:52.104914",
     "exception": false,
     "start_time": "2022-03-28T20:36:52.028733",
     "status": "completed"
    },
    "tags": []
   },
   "outputs": [],
   "source": [
    "# split out validation dataset for the end\n",
    "Y= dataset3[\"TrueRiskTolerance\"]\n",
    "X = dataset3.loc[:, dataset3.columns != 'TrueRiskTolerance']\n",
    "# scaler = StandardScaler().fit(X)\n",
    "# rescaledX = scaler.transform(X)\n",
    "validation_size = 0.2\n",
    "seed = 3\n",
    "X_train, X_validation, Y_train, Y_validation = train_test_split(X, Y, test_size=validation_size, random_state=seed)"
   ]
  },
  {
   "cell_type": "code",
   "execution_count": 22,
   "id": "2078f772",
   "metadata": {
    "execution": {
     "iopub.execute_input": "2022-03-28T20:36:52.231782Z",
     "iopub.status.busy": "2022-03-28T20:36:52.231193Z",
     "iopub.status.idle": "2022-03-28T20:36:52.234545Z",
     "shell.execute_reply": "2022-03-28T20:36:52.235130Z",
     "shell.execute_reply.started": "2022-03-16T15:34:44.623021Z"
    },
    "papermill": {
     "duration": 0.0685,
     "end_time": "2022-03-28T20:36:52.235265",
     "exception": false,
     "start_time": "2022-03-28T20:36:52.166765",
     "status": "completed"
    },
    "tags": []
   },
   "outputs": [],
   "source": [
    "# test options for regression\n",
    "num_folds = 10\n",
    "#scoring = 'neg_mean_squared_error'\n",
    "#scoring ='neg_mean_absolute_error'\n",
    "scoring = 'r2'"
   ]
  },
  {
   "cell_type": "markdown",
   "id": "6df7f0c8",
   "metadata": {
    "papermill": {
     "duration": 0.061618,
     "end_time": "2022-03-28T20:36:52.358798",
     "exception": false,
     "start_time": "2022-03-28T20:36:52.297180",
     "status": "completed"
    },
    "tags": []
   },
   "source": [
    "## Comparing Models/Algorithms with K-fold Cross Validation"
   ]
  },
  {
   "cell_type": "code",
   "execution_count": 23,
   "id": "8a7423a0",
   "metadata": {
    "execution": {
     "iopub.execute_input": "2022-03-28T20:36:52.487559Z",
     "iopub.status.busy": "2022-03-28T20:36:52.486904Z",
     "iopub.status.idle": "2022-03-28T20:36:52.491580Z",
     "shell.execute_reply": "2022-03-28T20:36:52.492176Z",
     "shell.execute_reply.started": "2022-03-16T15:34:52.930877Z"
    },
    "papermill": {
     "duration": 0.071645,
     "end_time": "2022-03-28T20:36:52.492341",
     "exception": false,
     "start_time": "2022-03-28T20:36:52.420696",
     "status": "completed"
    },
    "tags": []
   },
   "outputs": [],
   "source": [
    "# spot check the algorithms\n",
    "models = []\n",
    "models.append(('LR', LinearRegression()))\n",
    "models.append(('LASSO', Lasso()))\n",
    "models.append(('EN', ElasticNet()))\n",
    "models.append(('KNN', KNeighborsRegressor()))\n",
    "models.append(('CART', DecisionTreeRegressor()))\n",
    "models.append(('SVR', SVR()))\n",
    "#Neural Network\n",
    "#models.append(('MLP', MLPRegressor()))\n",
    "#Ensable Models \n",
    "# Boosting methods\n",
    "models.append(('ABR', AdaBoostRegressor()))\n",
    "models.append(('GBR', GradientBoostingRegressor()))\n",
    "# Bagging methods\n",
    "models.append(('RFR', RandomForestRegressor()))\n",
    "models.append(('ETR', ExtraTreesRegressor()))"
   ]
  },
  {
   "cell_type": "code",
   "execution_count": 24,
   "id": "cc99679e",
   "metadata": {
    "execution": {
     "iopub.execute_input": "2022-03-28T20:36:52.619820Z",
     "iopub.status.busy": "2022-03-28T20:36:52.619231Z",
     "iopub.status.idle": "2022-03-28T20:36:56.149342Z",
     "shell.execute_reply": "2022-03-28T20:36:56.151384Z",
     "shell.execute_reply.started": "2022-03-16T15:36:50.532821Z"
    },
    "papermill": {
     "duration": 3.597384,
     "end_time": "2022-03-28T20:36:56.151675",
     "exception": false,
     "start_time": "2022-03-28T20:36:52.554291",
     "status": "completed"
    },
    "tags": []
   },
   "outputs": [
    {
     "name": "stdout",
     "output_type": "stream",
     "text": [
      "LR: -0.105127 (0.103969)\n",
      "LASSO: -0.023692 (0.118324)\n",
      "EN: -0.031108 (0.117770)\n",
      "KNN: -0.409466 (0.166879)\n",
      "CART: -0.595924 (0.188532)\n",
      "SVR: -0.101482 (0.092744)\n",
      "ABR: -0.404432 (0.055620)\n",
      "GBR: -0.651541 (0.102855)\n",
      "RFR: -0.728641 (0.079878)\n",
      "ETR: -0.761030 (0.108434)\n"
     ]
    }
   ],
   "source": [
    "results = []\n",
    "names = []\n",
    "for name, model in models:\n",
    "    kfold = KFold(n_splits=num_folds)\n",
    "    #converted mean square error to positive. The lower the beter\n",
    "    cv_results = -1* cross_val_score(model, X_train, Y_train, cv=kfold, scoring=scoring)\n",
    "    results.append(cv_results)\n",
    "    names.append(name)\n",
    "    msg = \"%s: %f (%f)\" % (name, cv_results.mean(), cv_results.std())\n",
    "    print(msg)"
   ]
  },
  {
   "cell_type": "code",
   "execution_count": 25,
   "id": "e1d33a81",
   "metadata": {
    "execution": {
     "iopub.execute_input": "2022-03-28T20:36:56.311199Z",
     "iopub.status.busy": "2022-03-28T20:36:56.310548Z",
     "iopub.status.idle": "2022-03-28T20:36:56.515716Z",
     "shell.execute_reply": "2022-03-28T20:36:56.515279Z",
     "shell.execute_reply.started": "2022-03-16T15:38:38.398064Z"
    },
    "papermill": {
     "duration": 0.297378,
     "end_time": "2022-03-28T20:36:56.515842",
     "exception": false,
     "start_time": "2022-03-28T20:36:56.218464",
     "status": "completed"
    },
    "tags": []
   },
   "outputs": [
    {
     "data": {
      "image/png": "[encoded data removed]",
      "text/plain": [
       "<Figure size 1080x576 with 1 Axes>"
      ]
     },
     "metadata": {
      "needs_background": "light"
     },
     "output_type": "display_data"
    }
   ],
   "source": [
    "# compare algorithms\n",
    "fig = plt.figure()\n",
    "fig.suptitle('Algorithm Comparison')\n",
    "ax = fig.add_subplot(111)\n",
    "plt.boxplot(results)\n",
    "ax.set_xticklabels(names)\n",
    "fig.set_size_inches(15,8)\n",
    "plt.show()"
   ]
  },
  {
   "cell_type": "markdown",
   "id": "e1e04421",
   "metadata": {
    "papermill": {
     "duration": 0.044921,
     "end_time": "2022-03-28T20:36:56.607970",
     "exception": false,
     "start_time": "2022-03-28T20:36:56.563049",
     "status": "completed"
    },
    "tags": []
   },
   "source": [
    "## Model Tuning & Grid Search on the best model (i.e. RandomForest)"
   ]
  },
  {
   "cell_type": "code",
   "execution_count": 26,
   "id": "18be6e4a",
   "metadata": {
    "execution": {
     "iopub.execute_input": "2022-03-28T20:36:56.724526Z",
     "iopub.status.busy": "2022-03-28T20:36:56.723838Z",
     "iopub.status.idle": "2022-03-28T20:37:21.399140Z",
     "shell.execute_reply": "2022-03-28T20:37:21.398449Z",
     "shell.execute_reply.started": "2022-03-16T15:39:26.246044Z"
    },
    "papermill": {
     "duration": 24.746264,
     "end_time": "2022-03-28T20:37:21.399319",
     "exception": false,
     "start_time": "2022-03-28T20:36:56.653055",
     "status": "completed"
    },
    "tags": []
   },
   "outputs": [
    {
     "name": "stdout",
     "output_type": "stream",
     "text": [
      "Best: 0.744405 using {'n_estimators': 100}\n",
      "0.724905 (0.094757) with: {'n_estimators': 50}\n",
      "0.744405 (0.081685) with: {'n_estimators': 100}\n",
      "0.719732 (0.096134) with: {'n_estimators': 150}\n",
      "0.735677 (0.083754) with: {'n_estimators': 200}\n",
      "0.735495 (0.083563) with: {'n_estimators': 250}\n",
      "0.735406 (0.084345) with: {'n_estimators': 300}\n",
      "0.740039 (0.080524) with: {'n_estimators': 350}\n",
      "0.734885 (0.082885) with: {'n_estimators': 400}\n"
     ]
    }
   ],
   "source": [
    "# 8. Grid search : RandomForestRegressor \n",
    "'''\n",
    "n_estimators : integer, optional (default=10)\n",
    "    The number of trees in the forest.\n",
    "'''\n",
    "param_grid = {'n_estimators': [50,100,150,200,250,300,350,400]}\n",
    "model = RandomForestRegressor()\n",
    "kfold = KFold(n_splits=num_folds)\n",
    "grid = GridSearchCV(estimator=model, param_grid=param_grid, scoring=scoring, cv=kfold)\n",
    "grid_result = grid.fit(X_train, Y_train)\n",
    "print(\"Best: %f using %s\" % (grid_result.best_score_, grid_result.best_params_))\n",
    "means = grid_result.cv_results_['mean_test_score']\n",
    "stds = grid_result.cv_results_['std_test_score']\n",
    "params = grid_result.cv_results_['params']\n",
    "for mean, stdev, param in zip(means, stds, params):\n",
    "    print(\"%f (%f) with: %r\" % (mean, stdev, param))"
   ]
  },
  {
   "cell_type": "code",
   "execution_count": 27,
   "id": "47c0ff81",
   "metadata": {
    "execution": {
     "iopub.execute_input": "2022-03-28T20:37:21.557896Z",
     "iopub.status.busy": "2022-03-28T20:37:21.552693Z",
     "iopub.status.idle": "2022-03-28T20:37:21.877346Z",
     "shell.execute_reply": "2022-03-28T20:37:21.877861Z",
     "shell.execute_reply.started": "2022-03-16T15:40:29.211796Z"
    },
    "papermill": {
     "duration": 0.409069,
     "end_time": "2022-03-28T20:37:21.878040",
     "exception": false,
     "start_time": "2022-03-28T20:37:21.468971",
     "status": "completed"
    },
    "tags": []
   },
   "outputs": [
    {
     "data": {
      "text/plain": [
       "RandomForestRegressor(n_estimators=250)"
      ]
     },
     "execution_count": 27,
     "metadata": {},
     "output_type": "execute_result"
    }
   ],
   "source": [
    "# prepare model\n",
    "model = RandomForestRegressor(n_estimators = 250)\n",
    "model.fit(X_train, Y_train)"
   ]
  },
  {
   "cell_type": "code",
   "execution_count": 28,
   "id": "ce002107",
   "metadata": {
    "execution": {
     "iopub.execute_input": "2022-03-28T20:37:22.021331Z",
     "iopub.status.busy": "2022-03-28T20:37:22.017827Z",
     "iopub.status.idle": "2022-03-28T20:37:22.051832Z",
     "shell.execute_reply": "2022-03-28T20:37:22.051295Z",
     "shell.execute_reply.started": "2022-03-16T15:40:47.074364Z"
    },
    "papermill": {
     "duration": 0.105331,
     "end_time": "2022-03-28T20:37:22.051973",
     "exception": false,
     "start_time": "2022-03-28T20:37:21.946642",
     "status": "completed"
    },
    "tags": []
   },
   "outputs": [
    {
     "name": "stdout",
     "output_type": "stream",
     "text": [
      "0.9633851782021436\n"
     ]
    }
   ],
   "source": [
    "from sklearn.metrics import r2_score\n",
    "predictions_train = model.predict(X_train)\n",
    "print(r2_score(Y_train, predictions_train))"
   ]
  },
  {
   "cell_type": "code",
   "execution_count": 29,
   "id": "c948dd00",
   "metadata": {
    "execution": {
     "iopub.execute_input": "2022-03-28T20:37:22.198687Z",
     "iopub.status.busy": "2022-03-28T20:37:22.198022Z",
     "iopub.status.idle": "2022-03-28T20:37:22.225197Z",
     "shell.execute_reply": "2022-03-28T20:37:22.225748Z",
     "shell.execute_reply.started": "2022-03-16T15:40:55.80661Z"
    },
    "papermill": {
     "duration": 0.10366,
     "end_time": "2022-03-28T20:37:22.225938",
     "exception": false,
     "start_time": "2022-03-28T20:37:22.122278",
     "status": "completed"
    },
    "tags": []
   },
   "outputs": [
    {
     "name": "stdout",
     "output_type": "stream",
     "text": [
      "0.0075554219442361395\n",
      "0.7683902753951746\n"
     ]
    }
   ],
   "source": [
    "# estimate accuracy on validation set\n",
    "# transform the validation dataset\n",
    "from sklearn.metrics import mean_squared_error\n",
    "from sklearn.metrics import r2_score\n",
    "#rescaledValidationX = scaler.transform(X_validation)\n",
    "predictions = model.predict(X_validation)\n",
    "print(mean_squared_error(Y_validation, predictions))\n",
    "print(r2_score(Y_validation, predictions))"
   ]
  },
  {
   "cell_type": "markdown",
   "id": "9b2cb9eb",
   "metadata": {
    "papermill": {
     "duration": 0.069925,
     "end_time": "2022-03-28T20:37:22.365184",
     "exception": false,
     "start_time": "2022-03-28T20:37:22.295259",
     "status": "completed"
    },
    "tags": []
   },
   "source": [
    "## Feature Importance"
   ]
  },
  {
   "cell_type": "code",
   "execution_count": 30,
   "id": "d8a56d80",
   "metadata": {
    "execution": {
     "iopub.execute_input": "2022-03-28T20:37:22.517704Z",
     "iopub.status.busy": "2022-03-28T20:37:22.517032Z",
     "iopub.status.idle": "2022-03-28T20:37:23.341520Z",
     "shell.execute_reply": "2022-03-28T20:37:23.340906Z",
     "shell.execute_reply.started": "2022-03-16T15:41:03.143521Z"
    },
    "papermill": {
     "duration": 0.907048,
     "end_time": "2022-03-28T20:37:23.341674",
     "exception": false,
     "start_time": "2022-03-28T20:37:22.434626",
     "status": "completed"
    },
    "tags": []
   },
   "outputs": [
    {
     "name": "stdout",
     "output_type": "stream",
     "text": [
      "[0.21410118 0.02563512 0.01222011 0.04296254 0.02612822 0.24509262\n",
      " 0.05313232 0.38072788]\n"
     ]
    },
    {
     "data": {
      "image/png": "[encoded data removed]",
      "text/plain": [
       "<Figure size 432x288 with 1 Axes>"
      ]
     },
     "metadata": {
      "needs_background": "light"
     },
     "output_type": "display_data"
    }
   ],
   "source": [
    "import pandas as pd\n",
    "import numpy as np\n",
    "model = RandomForestRegressor(n_estimators= 200,n_jobs=-1)\n",
    "model.fit(X_train,Y_train)\n",
    "print(model.feature_importances_) #use inbuilt class feature_importances of tree based classifiers\n",
    "#plot graph of feature importances for better visualization\n",
    "feat_importances = pd.Series(model.feature_importances_, index=X.columns)\n",
    "feat_importances.nlargest(10).plot(kind='barh')\n",
    "plt.show()"
   ]
  },
  {
   "cell_type": "markdown",
   "id": "9a4040de",
   "metadata": {
    "papermill": {
     "duration": 0.070098,
     "end_time": "2022-03-28T20:37:23.484207",
     "exception": false,
     "start_time": "2022-03-28T20:37:23.414109",
     "status": "completed"
    },
    "tags": []
   },
   "source": [
    "## Saving the final model"
   ]
  },
  {
   "cell_type": "code",
   "execution_count": 31,
   "id": "96ee4551",
   "metadata": {
    "execution": {
     "iopub.execute_input": "2022-03-28T20:37:23.637376Z",
     "iopub.status.busy": "2022-03-28T20:37:23.630644Z",
     "iopub.status.idle": "2022-03-28T20:37:23.643356Z",
     "shell.execute_reply": "2022-03-28T20:37:23.642467Z",
     "shell.execute_reply.started": "2022-03-16T15:41:11.09971Z"
    },
    "papermill": {
     "duration": 0.088579,
     "end_time": "2022-03-28T20:37:23.643550",
     "exception": false,
     "start_time": "2022-03-28T20:37:23.554971",
     "status": "completed"
    },
    "tags": []
   },
   "outputs": [],
   "source": [
    "# Save Model Using Pickle\n",
    "from pickle import dump\n",
    "from pickle import load\n",
    "\n",
    "# save the model to disk\n",
    "filename = 'finalized_model.sav'\n",
    "dump(model, open(filename, 'wb'))"
   ]
  },
  {
   "cell_type": "code",
   "execution_count": 32,
   "id": "182b19d3",
   "metadata": {
    "execution": {
     "iopub.execute_input": "2022-03-28T20:37:23.790654Z",
     "iopub.status.busy": "2022-03-28T20:37:23.789995Z",
     "iopub.status.idle": "2022-03-28T20:37:23.908245Z",
     "shell.execute_reply": "2022-03-28T20:37:23.906950Z",
     "shell.execute_reply.started": "2022-03-16T15:41:18.550403Z"
    },
    "papermill": {
     "duration": 0.193451,
     "end_time": "2022-03-28T20:37:23.908419",
     "exception": false,
     "start_time": "2022-03-28T20:37:23.714968",
     "status": "completed"
    },
    "tags": []
   },
   "outputs": [
    {
     "name": "stdout",
     "output_type": "stream",
     "text": [
      "0.7647533702943952\n",
      "0.0076740626993012226\n"
     ]
    }
   ],
   "source": [
    "# load the model from disk\n",
    "loaded_model = load(open(filename, 'rb'))\n",
    "# estimate accuracy on validation set\n",
    "predictions = loaded_model.predict(X_validation)\n",
    "result = mean_squared_error(Y_validation, predictions)\n",
    "print(r2_score(Y_validation, predictions))\n",
    "print(result)"
   ]
  },
  {
   "cell_type": "markdown",
   "id": "11c48159",
   "metadata": {
    "papermill": {
     "duration": 0.071166,
     "end_time": "2022-03-28T20:37:24.050459",
     "exception": false,
     "start_time": "2022-03-28T20:37:23.979293",
     "status": "completed"
    },
    "tags": []
   },
   "source": [
    "# Conclusion:\n",
    "Thus, we could objectively ascertain investors' \"true\" risk tolerance, which plays crucial role in determining the suitable assets and the corresponding allocations thereby helping clients reach their financial goals in a more scientific way. "
   ]
  }
 ],
 "metadata": {
  "kernelspec": {
   "display_name": "Python 3",
   "language": "python",
   "name": "python3"
  },
  "language_info": {
   "codemirror_mode": {
    "name": "ipython",
    "version": 3
   },
   "file_extension": ".py",
   "mimetype": "text/x-python",
   "name": "python",
   "nbconvert_exporter": "python",
   "pygments_lexer": "ipython3",
   "version": "3.7.12"
  },
  "papermill": {
   "default_parameters": {},
   "duration": 282.861685,
   "end_time": "2022-03-28T20:37:27.627561",
   "environment_variables": {},
   "exception": null,
   "input_path": "__notebook__.ipynb",
   "output_path": "__notebook__.ipynb",
   "parameters": {},
   "start_time": "2022-03-28T20:32:44.765876",
   "version": "2.3.3"
  }
 },
 "nbformat": 4,
 "nbformat_minor": 5
}
